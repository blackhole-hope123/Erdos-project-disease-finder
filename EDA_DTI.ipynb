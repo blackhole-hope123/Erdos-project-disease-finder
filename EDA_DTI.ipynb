{
 "cells": [
  {
   "cell_type": "markdown",
   "id": "ae07022c",
   "metadata": {},
   "source": [
    "# Basic Setup and Data Loading"
   ]
  },
  {
   "cell_type": "code",
   "execution_count": 1,
   "id": "df6f93e8",
   "metadata": {},
   "outputs": [],
   "source": [
    "import pandas as pd\n",
    "import numpy as np\n",
    "import seaborn as sns\n",
    "import missingno as msno\n",
    "import matplotlib.pyplot as plt\n",
    "\n",
    "sns.set_style(\"whitegrid\")"
   ]
  },
  {
   "cell_type": "code",
   "execution_count": 2,
   "id": "ee2d5537",
   "metadata": {},
   "outputs": [
    {
     "name": "stdout",
     "output_type": "stream",
     "text": [
      "<class 'pandas.core.frame.DataFrame'>\n",
      "RangeIndex: 1196 entries, 0 to 1195\n",
      "Data columns (total 14 columns):\n",
      " #   Column                Non-Null Count  Dtype  \n",
      "---  ------                --------------  -----  \n",
      " 0   participant_id        1196 non-null   object \n",
      " 1   GUID                  364 non-null    object \n",
      " 2   visit_name            1196 non-null   object \n",
      " 3   visit_month           0 non-null      float64\n",
      " 4   dti_brain_tissue      1196 non-null   object \n",
      " 5   dti_measure           1196 non-null   object \n",
      " 6   roi1_left_rostral     1196 non-null   float64\n",
      " 7   roi2_left_middle      1196 non-null   float64\n",
      " 8   roi3_left_caudal      1196 non-null   float64\n",
      " 9   roi4_right_rostral    1196 non-null   float64\n",
      " 10  roi5_right_middle     1196 non-null   float64\n",
      " 11  roi6_right_caudal     1196 non-null   float64\n",
      " 12  ref1_left_reference   1196 non-null   float64\n",
      " 13  ref2_right_reference  1196 non-null   float64\n",
      "dtypes: float64(9), object(5)\n",
      "memory usage: 130.9+ KB\n"
     ]
    }
   ],
   "source": [
    "DTI = pd.read_csv(\"new-data/releases_2023_v4release_1027_clinical_DTI.csv\")\n",
    "demographics_new = pd.read_csv(\"demographics_new.csv\")\n",
    "DTI.info()"
   ]
  },
  {
   "cell_type": "code",
   "execution_count": 3,
   "id": "8f94f892",
   "metadata": {},
   "outputs": [
    {
     "data": {
      "text/html": [
       "<div>\n",
       "<style scoped>\n",
       "    .dataframe tbody tr th:only-of-type {\n",
       "        vertical-align: middle;\n",
       "    }\n",
       "\n",
       "    .dataframe tbody tr th {\n",
       "        vertical-align: top;\n",
       "    }\n",
       "\n",
       "    .dataframe thead th {\n",
       "        text-align: right;\n",
       "    }\n",
       "</style>\n",
       "<table border=\"1\" class=\"dataframe\">\n",
       "  <thead>\n",
       "    <tr style=\"text-align: right;\">\n",
       "      <th></th>\n",
       "      <th>participant_id</th>\n",
       "      <th>GUID</th>\n",
       "      <th>visit_name</th>\n",
       "      <th>visit_month</th>\n",
       "      <th>dti_brain_tissue</th>\n",
       "      <th>dti_measure</th>\n",
       "      <th>roi1_left_rostral</th>\n",
       "      <th>roi2_left_middle</th>\n",
       "      <th>roi3_left_caudal</th>\n",
       "      <th>roi4_right_rostral</th>\n",
       "      <th>roi5_right_middle</th>\n",
       "      <th>roi6_right_caudal</th>\n",
       "      <th>ref1_left_reference</th>\n",
       "      <th>ref2_right_reference</th>\n",
       "    </tr>\n",
       "  </thead>\n",
       "  <tbody>\n",
       "    <tr>\n",
       "      <th>0</th>\n",
       "      <td>PP-3101</td>\n",
       "      <td>NaN</td>\n",
       "      <td>LOG</td>\n",
       "      <td>NaN</td>\n",
       "      <td>Substantia Nigra</td>\n",
       "      <td>Eigenvalue1</td>\n",
       "      <td>0.000926</td>\n",
       "      <td>0.000877</td>\n",
       "      <td>0.000812</td>\n",
       "      <td>0.001246</td>\n",
       "      <td>0.001144</td>\n",
       "      <td>0.001088</td>\n",
       "      <td>0.001470</td>\n",
       "      <td>0.001434</td>\n",
       "    </tr>\n",
       "    <tr>\n",
       "      <th>1</th>\n",
       "      <td>PP-3101</td>\n",
       "      <td>NaN</td>\n",
       "      <td>LOG</td>\n",
       "      <td>NaN</td>\n",
       "      <td>Substantia Nigra</td>\n",
       "      <td>Eigenvalue2</td>\n",
       "      <td>0.000604</td>\n",
       "      <td>0.000511</td>\n",
       "      <td>0.000587</td>\n",
       "      <td>0.001120</td>\n",
       "      <td>0.000945</td>\n",
       "      <td>0.000743</td>\n",
       "      <td>0.000537</td>\n",
       "      <td>0.000411</td>\n",
       "    </tr>\n",
       "    <tr>\n",
       "      <th>2</th>\n",
       "      <td>PP-3101</td>\n",
       "      <td>NaN</td>\n",
       "      <td>LOG</td>\n",
       "      <td>NaN</td>\n",
       "      <td>Substantia Nigra</td>\n",
       "      <td>Eigenvalue3</td>\n",
       "      <td>0.000387</td>\n",
       "      <td>0.000337</td>\n",
       "      <td>0.000322</td>\n",
       "      <td>0.000900</td>\n",
       "      <td>0.000655</td>\n",
       "      <td>0.000463</td>\n",
       "      <td>0.000258</td>\n",
       "      <td>0.000243</td>\n",
       "    </tr>\n",
       "    <tr>\n",
       "      <th>3</th>\n",
       "      <td>PP-3101</td>\n",
       "      <td>NaN</td>\n",
       "      <td>LOG</td>\n",
       "      <td>NaN</td>\n",
       "      <td>Substantia Nigra</td>\n",
       "      <td>Fractional Anisotropy</td>\n",
       "      <td>0.327429</td>\n",
       "      <td>0.364471</td>\n",
       "      <td>0.329588</td>\n",
       "      <td>0.130218</td>\n",
       "      <td>0.214409</td>\n",
       "      <td>0.317038</td>\n",
       "      <td>0.565928</td>\n",
       "      <td>0.603173</td>\n",
       "    </tr>\n",
       "    <tr>\n",
       "      <th>4</th>\n",
       "      <td>PP-3102</td>\n",
       "      <td>NaN</td>\n",
       "      <td>LOG</td>\n",
       "      <td>NaN</td>\n",
       "      <td>Substantia Nigra</td>\n",
       "      <td>Eigenvalue1</td>\n",
       "      <td>0.000926</td>\n",
       "      <td>0.000933</td>\n",
       "      <td>0.000967</td>\n",
       "      <td>0.000994</td>\n",
       "      <td>0.000971</td>\n",
       "      <td>0.001101</td>\n",
       "      <td>0.001348</td>\n",
       "      <td>0.001318</td>\n",
       "    </tr>\n",
       "  </tbody>\n",
       "</table>\n",
       "</div>"
      ],
      "text/plain": [
       "  participant_id GUID visit_name  visit_month  dti_brain_tissue  \\\n",
       "0        PP-3101  NaN        LOG          NaN  Substantia Nigra   \n",
       "1        PP-3101  NaN        LOG          NaN  Substantia Nigra   \n",
       "2        PP-3101  NaN        LOG          NaN  Substantia Nigra   \n",
       "3        PP-3101  NaN        LOG          NaN  Substantia Nigra   \n",
       "4        PP-3102  NaN        LOG          NaN  Substantia Nigra   \n",
       "\n",
       "             dti_measure  roi1_left_rostral  roi2_left_middle  \\\n",
       "0            Eigenvalue1           0.000926          0.000877   \n",
       "1            Eigenvalue2           0.000604          0.000511   \n",
       "2            Eigenvalue3           0.000387          0.000337   \n",
       "3  Fractional Anisotropy           0.327429          0.364471   \n",
       "4            Eigenvalue1           0.000926          0.000933   \n",
       "\n",
       "   roi3_left_caudal  roi4_right_rostral  roi5_right_middle  roi6_right_caudal  \\\n",
       "0          0.000812            0.001246           0.001144           0.001088   \n",
       "1          0.000587            0.001120           0.000945           0.000743   \n",
       "2          0.000322            0.000900           0.000655           0.000463   \n",
       "3          0.329588            0.130218           0.214409           0.317038   \n",
       "4          0.000967            0.000994           0.000971           0.001101   \n",
       "\n",
       "   ref1_left_reference  ref2_right_reference  \n",
       "0             0.001470              0.001434  \n",
       "1             0.000537              0.000411  \n",
       "2             0.000258              0.000243  \n",
       "3             0.565928              0.603173  \n",
       "4             0.001348              0.001318  "
      ]
     },
     "execution_count": 3,
     "metadata": {},
     "output_type": "execute_result"
    }
   ],
   "source": [
    "DTI.head()"
   ]
  },
  {
   "cell_type": "markdown",
   "id": "bf2ea38e",
   "metadata": {},
   "source": [
    "# Data Preprocessing And Cleaning \n",
    "\n",
    "## Checking For Duplicates And Nan Values\n",
    "\n",
    "We begin our analysis by removing patients who have missing (NaN) values in the `GUID` column, as well as those with conflicting identifiers — that is, cases where multiple `participant_id`s share the same `GUID`. To ensure consistency, we retain only the participants whose `participant_id`s appear in the cleaned reference file \"demographics_new.csv\"."
   ]
  },
  {
   "cell_type": "code",
   "execution_count": 4,
   "id": "a0053f1f",
   "metadata": {},
   "outputs": [],
   "source": [
    "DTI = DTI[DTI['participant_id'].isin(demographics_new['participant_id'])]\n"
   ]
  },
  {
   "cell_type": "code",
   "execution_count": 5,
   "id": "bbd2c306",
   "metadata": {},
   "outputs": [
    {
     "data": {
      "text/plain": [
       "participant_id           77\n",
       "GUID                     77\n",
       "visit_name                1\n",
       "visit_month               0\n",
       "dti_brain_tissue          1\n",
       "dti_measure              12\n",
       "roi1_left_rostral       332\n",
       "roi2_left_middle        321\n",
       "roi3_left_caudal        329\n",
       "roi4_right_rostral      333\n",
       "roi5_right_middle       327\n",
       "roi6_right_caudal       330\n",
       "ref1_left_reference     315\n",
       "ref2_right_reference    335\n",
       "dtype: int64"
      ]
     },
     "execution_count": 5,
     "metadata": {},
     "output_type": "execute_result"
    }
   ],
   "source": [
    "DTI.nunique()"
   ]
  },
  {
   "cell_type": "code",
   "execution_count": 6,
   "id": "98662137",
   "metadata": {},
   "outputs": [
    {
     "data": {
      "text/plain": [
       "np.int64(0)"
      ]
     },
     "execution_count": 6,
     "metadata": {},
     "output_type": "execute_result"
    }
   ],
   "source": [
    "DTI['GUID'].isna().sum()\n",
    "   "
   ]
  },
  {
   "cell_type": "markdown",
   "id": "ac681e83",
   "metadata": {},
   "source": [
    "We remove the GUID column from the dataset, as it is no longer required for the subsequent steps of our analysis. Then we assess the data for duplicate entries by examining combinations of the `participant_id` and `visit_month` columns to ensure each participant's visit is uniquely represented."
   ]
  },
  {
   "cell_type": "code",
   "execution_count": 7,
   "id": "c840f970",
   "metadata": {},
   "outputs": [],
   "source": [
    "DTI.drop('GUID', axis = 1,  inplace = True)"
   ]
  },
  {
   "cell_type": "code",
   "execution_count": 8,
   "id": "393f579f",
   "metadata": {},
   "outputs": [
    {
     "data": {
      "text/plain": [
       "np.int64(287)"
      ]
     },
     "execution_count": 8,
     "metadata": {},
     "output_type": "execute_result"
    }
   ],
   "source": [
    "DTI.duplicated(subset = ['visit_month','participant_id']).sum()"
   ]
  }
 ],
 "metadata": {
  "kernelspec": {
   "display_name": "erdos_summer_2025",
   "language": "python",
   "name": "python3"
  },
  "language_info": {
   "codemirror_mode": {
    "name": "ipython",
    "version": 3
   },
   "file_extension": ".py",
   "mimetype": "text/x-python",
   "name": "python",
   "nbconvert_exporter": "python",
   "pygments_lexer": "ipython3",
   "version": "3.12.10"
  }
 },
 "nbformat": 4,
 "nbformat_minor": 5
}
