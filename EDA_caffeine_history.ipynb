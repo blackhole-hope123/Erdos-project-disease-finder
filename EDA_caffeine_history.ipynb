{
 "cells": [
  {
   "cell_type": "markdown",
   "id": "99385742",
   "metadata": {},
   "source": [
    "# Basic Setup and Data Loading"
   ]
  },
  {
   "cell_type": "code",
   "execution_count": 1,
   "id": "1f87e60e",
   "metadata": {},
   "outputs": [],
   "source": [
    "import pandas as pd\n",
    "import numpy as np\n",
    "import seaborn as sns\n",
    "import missingno as msno\n",
    "import matplotlib.pyplot as plt\n",
    "\n",
    "sns.set_style(\"whitegrid\")"
   ]
  },
  {
   "cell_type": "code",
   "execution_count": 2,
   "id": "68247710",
   "metadata": {},
   "outputs": [
    {
     "name": "stdout",
     "output_type": "stream",
     "text": [
      "<class 'pandas.core.frame.DataFrame'>\n",
      "RangeIndex: 2155 entries, 0 to 2154\n",
      "Data columns (total 6 columns):\n",
      " #   Column                           Non-Null Count  Dtype  \n",
      "---  ------                           --------------  -----  \n",
      " 0   participant_id                   2155 non-null   object \n",
      " 1   GUID                             1453 non-null   object \n",
      " 2   visit_name                       2155 non-null   object \n",
      " 3   visit_month                      1418 non-null   float64\n",
      " 4   caff_drinks_ever_used_regularly  2155 non-null   object \n",
      " 5   caff_drinks_current_use          2063 non-null   object \n",
      "dtypes: float64(1), object(5)\n",
      "memory usage: 101.1+ KB\n"
     ]
    }
   ],
   "source": [
    "caffeine_history = pd.read_csv(\"new-data/releases_2023_v4release_1027_clinical_Caffeine_history.csv\")\n",
    "demographics_new = pd.read_csv(\"demographics_new.csv\")\n",
    "caffeine_history.info()"
   ]
  },
  {
   "cell_type": "code",
   "execution_count": 3,
   "id": "18051305",
   "metadata": {},
   "outputs": [
    {
     "data": {
      "text/html": [
       "<div>\n",
       "<style scoped>\n",
       "    .dataframe tbody tr th:only-of-type {\n",
       "        vertical-align: middle;\n",
       "    }\n",
       "\n",
       "    .dataframe tbody tr th {\n",
       "        vertical-align: top;\n",
       "    }\n",
       "\n",
       "    .dataframe thead th {\n",
       "        text-align: right;\n",
       "    }\n",
       "</style>\n",
       "<table border=\"1\" class=\"dataframe\">\n",
       "  <thead>\n",
       "    <tr style=\"text-align: right;\">\n",
       "      <th></th>\n",
       "      <th>participant_id</th>\n",
       "      <th>GUID</th>\n",
       "      <th>visit_name</th>\n",
       "      <th>visit_month</th>\n",
       "      <th>caff_drinks_ever_used_regularly</th>\n",
       "      <th>caff_drinks_current_use</th>\n",
       "    </tr>\n",
       "  </thead>\n",
       "  <tbody>\n",
       "    <tr>\n",
       "      <th>0</th>\n",
       "      <td>HB-PD_INVAA223GY7</td>\n",
       "      <td>PD_INVAA223GY7</td>\n",
       "      <td>M0</td>\n",
       "      <td>0.0</td>\n",
       "      <td>No</td>\n",
       "      <td>No</td>\n",
       "    </tr>\n",
       "    <tr>\n",
       "      <th>1</th>\n",
       "      <td>HB-PD_INVAB465GYE</td>\n",
       "      <td>PD_INVAB465GYE</td>\n",
       "      <td>M0</td>\n",
       "      <td>0.0</td>\n",
       "      <td>Yes</td>\n",
       "      <td>Yes</td>\n",
       "    </tr>\n",
       "    <tr>\n",
       "      <th>2</th>\n",
       "      <td>HB-PD_INVAD033HX2</td>\n",
       "      <td>PD_INVAD033HX2</td>\n",
       "      <td>M0</td>\n",
       "      <td>0.0</td>\n",
       "      <td>No</td>\n",
       "      <td>No</td>\n",
       "    </tr>\n",
       "    <tr>\n",
       "      <th>3</th>\n",
       "      <td>HB-PD_INVAD802MY3</td>\n",
       "      <td>PD_INVAD802MY3</td>\n",
       "      <td>M0</td>\n",
       "      <td>0.0</td>\n",
       "      <td>No</td>\n",
       "      <td>No</td>\n",
       "    </tr>\n",
       "    <tr>\n",
       "      <th>4</th>\n",
       "      <td>HB-PD_INVAD946MJ7</td>\n",
       "      <td>PD_INVAD946MJ7</td>\n",
       "      <td>M0</td>\n",
       "      <td>0.0</td>\n",
       "      <td>Yes</td>\n",
       "      <td>Yes</td>\n",
       "    </tr>\n",
       "  </tbody>\n",
       "</table>\n",
       "</div>"
      ],
      "text/plain": [
       "      participant_id            GUID visit_name  visit_month  \\\n",
       "0  HB-PD_INVAA223GY7  PD_INVAA223GY7         M0          0.0   \n",
       "1  HB-PD_INVAB465GYE  PD_INVAB465GYE         M0          0.0   \n",
       "2  HB-PD_INVAD033HX2  PD_INVAD033HX2         M0          0.0   \n",
       "3  HB-PD_INVAD802MY3  PD_INVAD802MY3         M0          0.0   \n",
       "4  HB-PD_INVAD946MJ7  PD_INVAD946MJ7         M0          0.0   \n",
       "\n",
       "  caff_drinks_ever_used_regularly caff_drinks_current_use  \n",
       "0                              No                      No  \n",
       "1                             Yes                     Yes  \n",
       "2                              No                      No  \n",
       "3                              No                      No  \n",
       "4                             Yes                     Yes  "
      ]
     },
     "execution_count": 3,
     "metadata": {},
     "output_type": "execute_result"
    }
   ],
   "source": [
    "caffeine_history.head()"
   ]
  },
  {
   "cell_type": "markdown",
   "id": "6a2c5a44",
   "metadata": {},
   "source": [
    "# Data Preprocessing And Cleaning \n",
    "\n",
    "## Checking For Duplicates And Nan Values\n",
    "\n",
    "We begin our analysis by removing patients who have missing (NaN) values in the `GUID` column, as well as those with conflicting identifiers — that is, cases where multiple `participant_id`s share the same `GUID`. To ensure consistency, we retain only the participants whose `participant_id`s appear in the cleaned reference file \"demographics_new.csv\"."
   ]
  },
  {
   "cell_type": "code",
   "execution_count": 6,
   "id": "ffa211b7",
   "metadata": {},
   "outputs": [],
   "source": [
    "caffeine_history = caffeine_history[caffeine_history['participant_id'].isin(demographics_new['participant_id'])]\n"
   ]
  },
  {
   "cell_type": "code",
   "execution_count": 7,
   "id": "5ad36771",
   "metadata": {},
   "outputs": [
    {
     "data": {
      "text/plain": [
       "participant_id                     1453\n",
       "GUID                               1453\n",
       "visit_name                            2\n",
       "visit_month                           1\n",
       "caff_drinks_ever_used_regularly       2\n",
       "caff_drinks_current_use               2\n",
       "dtype: int64"
      ]
     },
     "execution_count": 7,
     "metadata": {},
     "output_type": "execute_result"
    }
   ],
   "source": [
    "caffeine_history.nunique()"
   ]
  },
  {
   "cell_type": "code",
   "execution_count": 8,
   "id": "765d897d",
   "metadata": {},
   "outputs": [
    {
     "data": {
      "text/plain": [
       "np.int64(0)"
      ]
     },
     "execution_count": 8,
     "metadata": {},
     "output_type": "execute_result"
    }
   ],
   "source": [
    "caffeine_history['GUID'].isna().sum()\n",
    "   "
   ]
  },
  {
   "cell_type": "markdown",
   "id": "70674018",
   "metadata": {},
   "source": [
    "We remove the GUID column from the dataset, as it is no longer required for the subsequent steps of our analysis. Then we assess the data for duplicate entries by examining combinations of the `participant_id` and `visit_month` columns to ensure each participant's visit is uniquely represented."
   ]
  },
  {
   "cell_type": "code",
   "execution_count": 9,
   "id": "b7f7a8a5",
   "metadata": {},
   "outputs": [],
   "source": [
    "caffeine_history.drop('GUID', axis = 1,  inplace = True)"
   ]
  },
  {
   "cell_type": "code",
   "execution_count": 10,
   "id": "da599e77",
   "metadata": {},
   "outputs": [
    {
     "data": {
      "text/plain": [
       "np.int64(0)"
      ]
     },
     "execution_count": 10,
     "metadata": {},
     "output_type": "execute_result"
    }
   ],
   "source": [
    "caffeine_history.duplicated(subset = ['visit_month','participant_id']).sum()"
   ]
  }
 ],
 "metadata": {
  "kernelspec": {
   "display_name": "erdos_summer_2025",
   "language": "python",
   "name": "python3"
  },
  "language_info": {
   "codemirror_mode": {
    "name": "ipython",
    "version": 3
   },
   "file_extension": ".py",
   "mimetype": "text/x-python",
   "name": "python",
   "nbconvert_exporter": "python",
   "pygments_lexer": "ipython3",
   "version": "3.12.10"
  }
 },
 "nbformat": 4,
 "nbformat_minor": 5
}
