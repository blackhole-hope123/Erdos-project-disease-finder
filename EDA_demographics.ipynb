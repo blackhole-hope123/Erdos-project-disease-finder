{
 "cells": [
  {
   "cell_type": "code",
   "execution_count": 1,
   "id": "bb330410",
   "metadata": {},
   "outputs": [],
   "source": [
    "import pandas as pd\n",
    "import numpy as np\n",
    "import seaborn as sns\n",
    "import missingno as msno\n",
    "import matplotlib.pyplot as plt\n",
    "\n",
    "sns.set_style(\"whitegrid\")"
   ]
  },
  {
   "cell_type": "code",
   "execution_count": 2,
   "id": "00add3a6",
   "metadata": {},
   "outputs": [
    {
     "name": "stdout",
     "output_type": "stream",
     "text": [
      "<class 'pandas.core.frame.DataFrame'>\n",
      "RangeIndex: 10908 entries, 0 to 10907\n",
      "Data columns (total 9 columns):\n",
      " #   Column                 Non-Null Count  Dtype \n",
      "---  ------                 --------------  ----- \n",
      " 0   participant_id         10908 non-null  object\n",
      " 1   GUID                   4413 non-null   object\n",
      " 2   visit_name             10908 non-null  object\n",
      " 3   visit_month            10908 non-null  int64 \n",
      " 4   age_at_baseline        10908 non-null  int64 \n",
      " 5   sex                    10908 non-null  object\n",
      " 6   ethnicity              6303 non-null   object\n",
      " 7   race                   10889 non-null  object\n",
      " 8   education_level_years  6322 non-null   object\n",
      "dtypes: int64(2), object(7)\n",
      "memory usage: 767.1+ KB\n"
     ]
    }
   ],
   "source": [
    "demographics = pd.read_csv(\"new-data/releases_2023_v4release_1027_clinical_Demographics.csv\")\n",
    "clinical_enrolment = pd.read_csv(\"new-data/releases_2023_v4release_1027_clinical_Enrollment.csv\")\n",
    "demographics.info()"
   ]
  },
  {
   "cell_type": "code",
   "execution_count": 3,
   "id": "8fae61b7",
   "metadata": {},
   "outputs": [
    {
     "name": "stdout",
     "output_type": "stream",
     "text": [
      "<class 'pandas.core.frame.DataFrame'>\n",
      "RangeIndex: 10058 entries, 0 to 10057\n",
      "Data columns (total 8 columns):\n",
      " #   Column                                  Non-Null Count  Dtype  \n",
      "---  ------                                  --------------  -----  \n",
      " 0   participant_id                          10058 non-null  object \n",
      " 1   GUID                                    4394 non-null   object \n",
      " 2   visit_name                              10058 non-null  object \n",
      " 3   visit_month                             10058 non-null  int64  \n",
      " 4   enrollment_months_after_baseline        3976 non-null   float64\n",
      " 5   informed_consent_months_after_baseline  4334 non-null   float64\n",
      " 6   prodromal_category                      5565 non-null   object \n",
      " 7   study_arm                               10055 non-null  object \n",
      "dtypes: float64(2), int64(1), object(5)\n",
      "memory usage: 628.8+ KB\n"
     ]
    }
   ],
   "source": [
    "clinical_enrolment.info()"
   ]
  },
  {
   "cell_type": "code",
   "execution_count": 4,
   "id": "772f8069",
   "metadata": {},
   "outputs": [
    {
     "data": {
      "text/html": [
       "<div>\n",
       "<style scoped>\n",
       "    .dataframe tbody tr th:only-of-type {\n",
       "        vertical-align: middle;\n",
       "    }\n",
       "\n",
       "    .dataframe tbody tr th {\n",
       "        vertical-align: top;\n",
       "    }\n",
       "\n",
       "    .dataframe thead th {\n",
       "        text-align: right;\n",
       "    }\n",
       "</style>\n",
       "<table border=\"1\" class=\"dataframe\">\n",
       "  <thead>\n",
       "    <tr style=\"text-align: right;\">\n",
       "      <th></th>\n",
       "      <th>participant_id</th>\n",
       "      <th>GUID</th>\n",
       "      <th>visit_name</th>\n",
       "      <th>visit_month</th>\n",
       "      <th>age_at_baseline</th>\n",
       "      <th>sex</th>\n",
       "      <th>ethnicity</th>\n",
       "      <th>race</th>\n",
       "      <th>education_level_years</th>\n",
       "    </tr>\n",
       "  </thead>\n",
       "  <tbody>\n",
       "    <tr>\n",
       "      <th>0</th>\n",
       "      <td>BF-1001</td>\n",
       "      <td>PDNW781VHY</td>\n",
       "      <td>M0</td>\n",
       "      <td>0</td>\n",
       "      <td>55</td>\n",
       "      <td>Male</td>\n",
       "      <td>Not Hispanic or Latino</td>\n",
       "      <td>White</td>\n",
       "      <td>12-16 years</td>\n",
       "    </tr>\n",
       "    <tr>\n",
       "      <th>1</th>\n",
       "      <td>BF-1002</td>\n",
       "      <td>PDCB969UGG</td>\n",
       "      <td>M0</td>\n",
       "      <td>0</td>\n",
       "      <td>66</td>\n",
       "      <td>Female</td>\n",
       "      <td>Not Hispanic or Latino</td>\n",
       "      <td>White</td>\n",
       "      <td>12-16 years</td>\n",
       "    </tr>\n",
       "    <tr>\n",
       "      <th>2</th>\n",
       "      <td>BF-1003</td>\n",
       "      <td>PDLW805AHT</td>\n",
       "      <td>M0</td>\n",
       "      <td>0</td>\n",
       "      <td>61</td>\n",
       "      <td>Male</td>\n",
       "      <td>Not Hispanic or Latino</td>\n",
       "      <td>White</td>\n",
       "      <td>12-16 years</td>\n",
       "    </tr>\n",
       "    <tr>\n",
       "      <th>3</th>\n",
       "      <td>BF-1004</td>\n",
       "      <td>PDKW284DYW</td>\n",
       "      <td>M0</td>\n",
       "      <td>0</td>\n",
       "      <td>62</td>\n",
       "      <td>Male</td>\n",
       "      <td>Not Hispanic or Latino</td>\n",
       "      <td>White</td>\n",
       "      <td>12-16 years</td>\n",
       "    </tr>\n",
       "    <tr>\n",
       "      <th>4</th>\n",
       "      <td>BF-1005</td>\n",
       "      <td>PDTM274KX6</td>\n",
       "      <td>M0</td>\n",
       "      <td>0</td>\n",
       "      <td>61</td>\n",
       "      <td>Female</td>\n",
       "      <td>Not Hispanic or Latino</td>\n",
       "      <td>White</td>\n",
       "      <td>12-16 years</td>\n",
       "    </tr>\n",
       "  </tbody>\n",
       "</table>\n",
       "</div>"
      ],
      "text/plain": [
       "  participant_id        GUID visit_name  visit_month  age_at_baseline     sex  \\\n",
       "0        BF-1001  PDNW781VHY         M0            0               55    Male   \n",
       "1        BF-1002  PDCB969UGG         M0            0               66  Female   \n",
       "2        BF-1003  PDLW805AHT         M0            0               61    Male   \n",
       "3        BF-1004  PDKW284DYW         M0            0               62    Male   \n",
       "4        BF-1005  PDTM274KX6         M0            0               61  Female   \n",
       "\n",
       "                ethnicity   race education_level_years  \n",
       "0  Not Hispanic or Latino  White           12-16 years  \n",
       "1  Not Hispanic or Latino  White           12-16 years  \n",
       "2  Not Hispanic or Latino  White           12-16 years  \n",
       "3  Not Hispanic or Latino  White           12-16 years  \n",
       "4  Not Hispanic or Latino  White           12-16 years  "
      ]
     },
     "execution_count": 4,
     "metadata": {},
     "output_type": "execute_result"
    }
   ],
   "source": [
    "demographics.head()"
   ]
  },
  {
   "cell_type": "code",
   "execution_count": 5,
   "id": "1af80394",
   "metadata": {},
   "outputs": [
    {
     "data": {
      "text/plain": [
       "Index(['participant_id', 'GUID', 'visit_name', 'visit_month',\n",
       "       'age_at_baseline', 'sex', 'ethnicity', 'race', 'education_level_years'],\n",
       "      dtype='object')"
      ]
     },
     "execution_count": 5,
     "metadata": {},
     "output_type": "execute_result"
    }
   ],
   "source": [
    "demographics.columns"
   ]
  },
  {
   "cell_type": "markdown",
   "id": "118996b1",
   "metadata": {},
   "source": [
    "## Duplicate And NaN Values \n",
    "\n",
    "We begin by counting the number of unique values of `participant_id' and 'GUID' to check for any discrepancy between these."
   ]
  },
  {
   "cell_type": "code",
   "execution_count": 6,
   "id": "be04947d",
   "metadata": {},
   "outputs": [
    {
     "data": {
      "text/plain": [
       "10908"
      ]
     },
     "execution_count": 6,
     "metadata": {},
     "output_type": "execute_result"
    }
   ],
   "source": [
    "demographics['participant_id'].nunique()"
   ]
  },
  {
   "cell_type": "code",
   "execution_count": 7,
   "id": "c50c6df7",
   "metadata": {},
   "outputs": [
    {
     "data": {
      "text/plain": [
       "4408"
      ]
     },
     "execution_count": 7,
     "metadata": {},
     "output_type": "execute_result"
    }
   ],
   "source": [
    "demographics['GUID'].nunique()"
   ]
  },
  {
   "cell_type": "markdown",
   "id": "e503101d",
   "metadata": {},
   "source": [
    "The observed difference in the count of unique values between the columns `participant_id` and `GUID` can be due to the substantial number of missing (NaN) entries in the `GUID` column, as previously indicated by our summary statistics and .info() output. To ensure this discrepancy is indeed due to missing data, we remove all rows with NaN values in the `GUID` column and then reassess the number of non-unique values."
   ]
  },
  {
   "cell_type": "code",
   "execution_count": 8,
   "id": "6d6048df",
   "metadata": {},
   "outputs": [
    {
     "data": {
      "text/plain": [
       "participant_id           4413\n",
       "GUID                     4408\n",
       "visit_name                  2\n",
       "visit_month                 2\n",
       "age_at_baseline            68\n",
       "sex                         2\n",
       "ethnicity                   3\n",
       "race                        8\n",
       "education_level_years       4\n",
       "dtype: int64"
      ]
     },
     "execution_count": 8,
     "metadata": {},
     "output_type": "execute_result"
    }
   ],
   "source": [
    "demographics_new = demographics.dropna(subset=['GUID'])\n",
    "demographics_new.nunique()"
   ]
  },
  {
   "cell_type": "markdown",
   "id": "07c47b65",
   "metadata": {},
   "source": [
    "After removing rows with missing `GUID` values, we determined the number of unique identifiers in each column:\n",
    "\n",
    "- **participant_id:** 4413 unique values\n",
    "- **GUID:** 4408 unique values\n",
    "\n",
    "This indicates that there are slightly more unique `participant_id`s than `GUID`s in the dataset. This small difference could be due to some participants having multiple `participant_id`s mapped to a single `GUID`, or vice versa, or a small number of records with mismatched identifiers. We look at the number of `participant_id` that share the same `GUID`s.\n"
   ]
  },
  {
   "cell_type": "code",
   "execution_count": 9,
   "id": "fe6b41c6",
   "metadata": {},
   "outputs": [
    {
     "name": "stdout",
     "output_type": "stream",
     "text": [
      "<class 'pandas.core.frame.DataFrame'>\n",
      "Index: 10 entries, 78 to 10625\n",
      "Data columns (total 9 columns):\n",
      " #   Column                 Non-Null Count  Dtype \n",
      "---  ------                 --------------  ----- \n",
      " 0   participant_id         10 non-null     object\n",
      " 1   GUID                   10 non-null     object\n",
      " 2   visit_name             10 non-null     object\n",
      " 3   visit_month            10 non-null     int64 \n",
      " 4   age_at_baseline        10 non-null     int64 \n",
      " 5   sex                    10 non-null     object\n",
      " 6   ethnicity              10 non-null     object\n",
      " 7   race                   10 non-null     object\n",
      " 8   education_level_years  10 non-null     object\n",
      "dtypes: int64(2), object(7)\n",
      "memory usage: 800.0+ bytes\n"
     ]
    }
   ],
   "source": [
    "demographics_multiple_GID_counts =   demographics_new.groupby('GUID')['participant_id'].nunique()\n",
    "mult_guid =  demographics_multiple_GID_counts[demographics_multiple_GID_counts > 1].index\n",
    "rows_with_multi_pid = demographics_new[demographics_new['GUID'].isin(mult_guid)]\n",
    "rows_with_multi_pid.info()"
   ]
  },
  {
   "cell_type": "code",
   "execution_count": 10,
   "id": "96fd4a00",
   "metadata": {},
   "outputs": [
    {
     "data": {
      "text/html": [
       "<div>\n",
       "<style scoped>\n",
       "    .dataframe tbody tr th:only-of-type {\n",
       "        vertical-align: middle;\n",
       "    }\n",
       "\n",
       "    .dataframe tbody tr th {\n",
       "        vertical-align: top;\n",
       "    }\n",
       "\n",
       "    .dataframe thead th {\n",
       "        text-align: right;\n",
       "    }\n",
       "</style>\n",
       "<table border=\"1\" class=\"dataframe\">\n",
       "  <thead>\n",
       "    <tr style=\"text-align: right;\">\n",
       "      <th></th>\n",
       "      <th>participant_id</th>\n",
       "      <th>GUID</th>\n",
       "      <th>visit_name</th>\n",
       "      <th>visit_month</th>\n",
       "      <th>age_at_baseline</th>\n",
       "      <th>sex</th>\n",
       "      <th>ethnicity</th>\n",
       "      <th>race</th>\n",
       "      <th>education_level_years</th>\n",
       "    </tr>\n",
       "  </thead>\n",
       "  <tbody>\n",
       "    <tr>\n",
       "      <th>78</th>\n",
       "      <td>BF-1088</td>\n",
       "      <td>PDJV686AAB</td>\n",
       "      <td>M0</td>\n",
       "      <td>0</td>\n",
       "      <td>66</td>\n",
       "      <td>Female</td>\n",
       "      <td>Not Hispanic or Latino</td>\n",
       "      <td>White</td>\n",
       "      <td>Greater than 16 years</td>\n",
       "    </tr>\n",
       "    <tr>\n",
       "      <th>80</th>\n",
       "      <td>BF-1091</td>\n",
       "      <td>PDEB612LPE</td>\n",
       "      <td>M0</td>\n",
       "      <td>0</td>\n",
       "      <td>68</td>\n",
       "      <td>Male</td>\n",
       "      <td>Not Hispanic or Latino</td>\n",
       "      <td>White</td>\n",
       "      <td>12-16 years</td>\n",
       "    </tr>\n",
       "    <tr>\n",
       "      <th>87</th>\n",
       "      <td>BF-1098</td>\n",
       "      <td>PDUA781LH0</td>\n",
       "      <td>M0</td>\n",
       "      <td>0</td>\n",
       "      <td>64</td>\n",
       "      <td>Male</td>\n",
       "      <td>Not Hispanic or Latino</td>\n",
       "      <td>White</td>\n",
       "      <td>12-16 years</td>\n",
       "    </tr>\n",
       "    <tr>\n",
       "      <th>88</th>\n",
       "      <td>BF-1100</td>\n",
       "      <td>PDBW494GHE</td>\n",
       "      <td>M0</td>\n",
       "      <td>0</td>\n",
       "      <td>71</td>\n",
       "      <td>Male</td>\n",
       "      <td>Not Hispanic or Latino</td>\n",
       "      <td>White</td>\n",
       "      <td>Less than 12 years</td>\n",
       "    </tr>\n",
       "    <tr>\n",
       "      <th>6774</th>\n",
       "      <td>PD-PDBW494GHE</td>\n",
       "      <td>PDBW494GHE</td>\n",
       "      <td>M0</td>\n",
       "      <td>0</td>\n",
       "      <td>71</td>\n",
       "      <td>Male</td>\n",
       "      <td>Not Hispanic or Latino</td>\n",
       "      <td>White</td>\n",
       "      <td>Less than 12 years</td>\n",
       "    </tr>\n",
       "    <tr>\n",
       "      <th>6920</th>\n",
       "      <td>PD-PDEB612LPE</td>\n",
       "      <td>PDEB612LPE</td>\n",
       "      <td>M0</td>\n",
       "      <td>0</td>\n",
       "      <td>67</td>\n",
       "      <td>Male</td>\n",
       "      <td>Not Hispanic or Latino</td>\n",
       "      <td>White</td>\n",
       "      <td>12-16 years</td>\n",
       "    </tr>\n",
       "    <tr>\n",
       "      <th>7142</th>\n",
       "      <td>PD-PDHB484JY8</td>\n",
       "      <td>PDHB484JY8</td>\n",
       "      <td>M0</td>\n",
       "      <td>0</td>\n",
       "      <td>58</td>\n",
       "      <td>Female</td>\n",
       "      <td>Not Hispanic or Latino</td>\n",
       "      <td>White</td>\n",
       "      <td>12-16 years</td>\n",
       "    </tr>\n",
       "    <tr>\n",
       "      <th>7273</th>\n",
       "      <td>PD-PDJV686AAB</td>\n",
       "      <td>PDJV686AAB</td>\n",
       "      <td>M0</td>\n",
       "      <td>0</td>\n",
       "      <td>65</td>\n",
       "      <td>Female</td>\n",
       "      <td>Not Hispanic or Latino</td>\n",
       "      <td>White</td>\n",
       "      <td>12-16 years</td>\n",
       "    </tr>\n",
       "    <tr>\n",
       "      <th>7783</th>\n",
       "      <td>PD-PDUA781LH0</td>\n",
       "      <td>PDUA781LH0</td>\n",
       "      <td>M0</td>\n",
       "      <td>0</td>\n",
       "      <td>63</td>\n",
       "      <td>Male</td>\n",
       "      <td>Not Hispanic or Latino</td>\n",
       "      <td>White</td>\n",
       "      <td>12-16 years</td>\n",
       "    </tr>\n",
       "    <tr>\n",
       "      <th>10625</th>\n",
       "      <td>SY-PDHB484JY8</td>\n",
       "      <td>PDHB484JY8</td>\n",
       "      <td>M0</td>\n",
       "      <td>0</td>\n",
       "      <td>59</td>\n",
       "      <td>Female</td>\n",
       "      <td>Not Hispanic or Latino</td>\n",
       "      <td>White</td>\n",
       "      <td>Unknown</td>\n",
       "    </tr>\n",
       "  </tbody>\n",
       "</table>\n",
       "</div>"
      ],
      "text/plain": [
       "      participant_id        GUID visit_name  visit_month  age_at_baseline  \\\n",
       "78           BF-1088  PDJV686AAB         M0            0               66   \n",
       "80           BF-1091  PDEB612LPE         M0            0               68   \n",
       "87           BF-1098  PDUA781LH0         M0            0               64   \n",
       "88           BF-1100  PDBW494GHE         M0            0               71   \n",
       "6774   PD-PDBW494GHE  PDBW494GHE         M0            0               71   \n",
       "6920   PD-PDEB612LPE  PDEB612LPE         M0            0               67   \n",
       "7142   PD-PDHB484JY8  PDHB484JY8         M0            0               58   \n",
       "7273   PD-PDJV686AAB  PDJV686AAB         M0            0               65   \n",
       "7783   PD-PDUA781LH0  PDUA781LH0         M0            0               63   \n",
       "10625  SY-PDHB484JY8  PDHB484JY8         M0            0               59   \n",
       "\n",
       "          sex               ethnicity   race  education_level_years  \n",
       "78     Female  Not Hispanic or Latino  White  Greater than 16 years  \n",
       "80       Male  Not Hispanic or Latino  White            12-16 years  \n",
       "87       Male  Not Hispanic or Latino  White            12-16 years  \n",
       "88       Male  Not Hispanic or Latino  White     Less than 12 years  \n",
       "6774     Male  Not Hispanic or Latino  White     Less than 12 years  \n",
       "6920     Male  Not Hispanic or Latino  White            12-16 years  \n",
       "7142   Female  Not Hispanic or Latino  White            12-16 years  \n",
       "7273   Female  Not Hispanic or Latino  White            12-16 years  \n",
       "7783     Male  Not Hispanic or Latino  White            12-16 years  \n",
       "10625  Female  Not Hispanic or Latino  White                Unknown  "
      ]
     },
     "execution_count": 10,
     "metadata": {},
     "output_type": "execute_result"
    }
   ],
   "source": [
    "rows_with_multi_pid.head(10)"
   ]
  },
  {
   "cell_type": "code",
   "execution_count": 11,
   "id": "9e0703a3",
   "metadata": {},
   "outputs": [
    {
     "data": {
      "text/plain": [
       "np.int64(1)"
      ]
     },
     "execution_count": 11,
     "metadata": {},
     "output_type": "execute_result"
    }
   ],
   "source": [
    "rows_with_multi_pid[['GUID', 'visit_name', 'visit_month',\n",
    "       'age_at_baseline', 'sex', 'ethnicity', 'race', 'education_level_years']].duplicated().sum()"
   ]
  },
  {
   "cell_type": "markdown",
   "id": "bc8b34a8",
   "metadata": {},
   "source": [
    "A closer examination reveals suggests that the majority of individuals  with same `GUID` but different `participant_id` differ by only one year in the `age_at_baseline` column, suggesting that these participants likely enrolled in a different cohort after a one-year interval. We now conduct a similar analysis for the clinical enrollment data to check our hypothesis."
   ]
  },
  {
   "cell_type": "code",
   "execution_count": 12,
   "id": "bd2edea8",
   "metadata": {},
   "outputs": [
    {
     "name": "stdout",
     "output_type": "stream",
     "text": [
      "<class 'pandas.core.frame.DataFrame'>\n",
      "RangeIndex: 10058 entries, 0 to 10057\n",
      "Data columns (total 8 columns):\n",
      " #   Column                                  Non-Null Count  Dtype  \n",
      "---  ------                                  --------------  -----  \n",
      " 0   participant_id                          10058 non-null  object \n",
      " 1   GUID                                    4394 non-null   object \n",
      " 2   visit_name                              10058 non-null  object \n",
      " 3   visit_month                             10058 non-null  int64  \n",
      " 4   enrollment_months_after_baseline        3976 non-null   float64\n",
      " 5   informed_consent_months_after_baseline  4334 non-null   float64\n",
      " 6   prodromal_category                      5565 non-null   object \n",
      " 7   study_arm                               10055 non-null  object \n",
      "dtypes: float64(2), int64(1), object(5)\n",
      "memory usage: 628.8+ KB\n"
     ]
    }
   ],
   "source": [
    "clinical_enrolment.info()"
   ]
  },
  {
   "cell_type": "code",
   "execution_count": 13,
   "id": "a867fc28",
   "metadata": {},
   "outputs": [
    {
     "data": {
      "text/html": [
       "<div>\n",
       "<style scoped>\n",
       "    .dataframe tbody tr th:only-of-type {\n",
       "        vertical-align: middle;\n",
       "    }\n",
       "\n",
       "    .dataframe tbody tr th {\n",
       "        vertical-align: top;\n",
       "    }\n",
       "\n",
       "    .dataframe thead th {\n",
       "        text-align: right;\n",
       "    }\n",
       "</style>\n",
       "<table border=\"1\" class=\"dataframe\">\n",
       "  <thead>\n",
       "    <tr style=\"text-align: right;\">\n",
       "      <th></th>\n",
       "      <th>participant_id</th>\n",
       "      <th>GUID</th>\n",
       "      <th>visit_name</th>\n",
       "      <th>visit_month</th>\n",
       "      <th>enrollment_months_after_baseline</th>\n",
       "      <th>informed_consent_months_after_baseline</th>\n",
       "      <th>prodromal_category</th>\n",
       "      <th>study_arm</th>\n",
       "    </tr>\n",
       "  </thead>\n",
       "  <tbody>\n",
       "    <tr>\n",
       "      <th>0</th>\n",
       "      <td>BF-1001</td>\n",
       "      <td>PDNW781VHY</td>\n",
       "      <td>M0</td>\n",
       "      <td>0</td>\n",
       "      <td>NaN</td>\n",
       "      <td>0.0</td>\n",
       "      <td>Unknown/Not collected as enrollment criterion</td>\n",
       "      <td>Healthy Control</td>\n",
       "    </tr>\n",
       "    <tr>\n",
       "      <th>1</th>\n",
       "      <td>BF-1002</td>\n",
       "      <td>PDCB969UGG</td>\n",
       "      <td>M0</td>\n",
       "      <td>0</td>\n",
       "      <td>NaN</td>\n",
       "      <td>0.0</td>\n",
       "      <td>Unknown/Not collected as enrollment criterion</td>\n",
       "      <td>PD</td>\n",
       "    </tr>\n",
       "    <tr>\n",
       "      <th>2</th>\n",
       "      <td>BF-1003</td>\n",
       "      <td>PDLW805AHT</td>\n",
       "      <td>M0</td>\n",
       "      <td>0</td>\n",
       "      <td>NaN</td>\n",
       "      <td>0.0</td>\n",
       "      <td>Unknown/Not collected as enrollment criterion</td>\n",
       "      <td>PD</td>\n",
       "    </tr>\n",
       "    <tr>\n",
       "      <th>3</th>\n",
       "      <td>BF-1004</td>\n",
       "      <td>PDKW284DYW</td>\n",
       "      <td>M0</td>\n",
       "      <td>0</td>\n",
       "      <td>NaN</td>\n",
       "      <td>0.0</td>\n",
       "      <td>Unknown/Not collected as enrollment criterion</td>\n",
       "      <td>PD</td>\n",
       "    </tr>\n",
       "    <tr>\n",
       "      <th>4</th>\n",
       "      <td>BF-1005</td>\n",
       "      <td>PDTM274KX6</td>\n",
       "      <td>M0</td>\n",
       "      <td>0</td>\n",
       "      <td>NaN</td>\n",
       "      <td>0.0</td>\n",
       "      <td>Unknown/Not collected as enrollment criterion</td>\n",
       "      <td>Healthy Control</td>\n",
       "    </tr>\n",
       "  </tbody>\n",
       "</table>\n",
       "</div>"
      ],
      "text/plain": [
       "  participant_id        GUID visit_name  visit_month  \\\n",
       "0        BF-1001  PDNW781VHY         M0            0   \n",
       "1        BF-1002  PDCB969UGG         M0            0   \n",
       "2        BF-1003  PDLW805AHT         M0            0   \n",
       "3        BF-1004  PDKW284DYW         M0            0   \n",
       "4        BF-1005  PDTM274KX6         M0            0   \n",
       "\n",
       "   enrollment_months_after_baseline  informed_consent_months_after_baseline  \\\n",
       "0                               NaN                                     0.0   \n",
       "1                               NaN                                     0.0   \n",
       "2                               NaN                                     0.0   \n",
       "3                               NaN                                     0.0   \n",
       "4                               NaN                                     0.0   \n",
       "\n",
       "                              prodromal_category        study_arm  \n",
       "0  Unknown/Not collected as enrollment criterion  Healthy Control  \n",
       "1  Unknown/Not collected as enrollment criterion               PD  \n",
       "2  Unknown/Not collected as enrollment criterion               PD  \n",
       "3  Unknown/Not collected as enrollment criterion               PD  \n",
       "4  Unknown/Not collected as enrollment criterion  Healthy Control  "
      ]
     },
     "execution_count": 13,
     "metadata": {},
     "output_type": "execute_result"
    }
   ],
   "source": [
    "clinical_enrolment.head()"
   ]
  },
  {
   "cell_type": "code",
   "execution_count": 14,
   "id": "1586e110",
   "metadata": {},
   "outputs": [
    {
     "data": {
      "text/plain": [
       "participant_id                            4394\n",
       "GUID                                      4389\n",
       "visit_name                                   2\n",
       "visit_month                                  2\n",
       "enrollment_months_after_baseline            20\n",
       "informed_consent_months_after_baseline      22\n",
       "prodromal_category                           3\n",
       "study_arm                                   10\n",
       "dtype: int64"
      ]
     },
     "execution_count": 14,
     "metadata": {},
     "output_type": "execute_result"
    }
   ],
   "source": [
    "clinical_enrolment_new = clinical_enrolment.dropna(subset=['GUID'])\n",
    "clinical_enrolment_new.nunique()"
   ]
  },
  {
   "cell_type": "code",
   "execution_count": 15,
   "id": "bf274fff",
   "metadata": {},
   "outputs": [
    {
     "name": "stdout",
     "output_type": "stream",
     "text": [
      "<class 'pandas.core.frame.DataFrame'>\n",
      "Index: 10 entries, 78 to 9876\n",
      "Data columns (total 8 columns):\n",
      " #   Column                                  Non-Null Count  Dtype  \n",
      "---  ------                                  --------------  -----  \n",
      " 0   participant_id                          10 non-null     object \n",
      " 1   GUID                                    10 non-null     object \n",
      " 2   visit_name                              10 non-null     object \n",
      " 3   visit_month                             10 non-null     int64  \n",
      " 4   enrollment_months_after_baseline        5 non-null      float64\n",
      " 5   informed_consent_months_after_baseline  9 non-null      float64\n",
      " 6   prodromal_category                      10 non-null     object \n",
      " 7   study_arm                               10 non-null     object \n",
      "dtypes: float64(2), int64(1), object(5)\n",
      "memory usage: 720.0+ bytes\n"
     ]
    }
   ],
   "source": [
    "enrolment_multiple_GID_counts =   clinical_enrolment_new.groupby('GUID')['participant_id'].nunique()\n",
    "mult_guid_enrolment =  enrolment_multiple_GID_counts[enrolment_multiple_GID_counts > 1].index\n",
    "enrolment_rows_with_multi_pid = clinical_enrolment_new[clinical_enrolment_new['GUID'].isin(mult_guid)]\n",
    "enrolment_rows_with_multi_pid.info()"
   ]
  },
  {
   "cell_type": "code",
   "execution_count": 16,
   "id": "5402f1fb",
   "metadata": {},
   "outputs": [
    {
     "data": {
      "text/html": [
       "<div>\n",
       "<style scoped>\n",
       "    .dataframe tbody tr th:only-of-type {\n",
       "        vertical-align: middle;\n",
       "    }\n",
       "\n",
       "    .dataframe tbody tr th {\n",
       "        vertical-align: top;\n",
       "    }\n",
       "\n",
       "    .dataframe thead th {\n",
       "        text-align: right;\n",
       "    }\n",
       "</style>\n",
       "<table border=\"1\" class=\"dataframe\">\n",
       "  <thead>\n",
       "    <tr style=\"text-align: right;\">\n",
       "      <th></th>\n",
       "      <th>participant_id</th>\n",
       "      <th>GUID</th>\n",
       "      <th>visit_name</th>\n",
       "      <th>visit_month</th>\n",
       "      <th>enrollment_months_after_baseline</th>\n",
       "      <th>informed_consent_months_after_baseline</th>\n",
       "      <th>prodromal_category</th>\n",
       "      <th>study_arm</th>\n",
       "    </tr>\n",
       "  </thead>\n",
       "  <tbody>\n",
       "    <tr>\n",
       "      <th>78</th>\n",
       "      <td>BF-1088</td>\n",
       "      <td>PDJV686AAB</td>\n",
       "      <td>M0</td>\n",
       "      <td>0</td>\n",
       "      <td>NaN</td>\n",
       "      <td>0.0</td>\n",
       "      <td>Unknown/Not collected as enrollment criterion</td>\n",
       "      <td>PD</td>\n",
       "    </tr>\n",
       "    <tr>\n",
       "      <th>80</th>\n",
       "      <td>BF-1091</td>\n",
       "      <td>PDEB612LPE</td>\n",
       "      <td>M0</td>\n",
       "      <td>0</td>\n",
       "      <td>NaN</td>\n",
       "      <td>0.0</td>\n",
       "      <td>Unknown/Not collected as enrollment criterion</td>\n",
       "      <td>PD</td>\n",
       "    </tr>\n",
       "    <tr>\n",
       "      <th>87</th>\n",
       "      <td>BF-1098</td>\n",
       "      <td>PDUA781LH0</td>\n",
       "      <td>M0</td>\n",
       "      <td>0</td>\n",
       "      <td>NaN</td>\n",
       "      <td>0.0</td>\n",
       "      <td>Unknown/Not collected as enrollment criterion</td>\n",
       "      <td>PD</td>\n",
       "    </tr>\n",
       "    <tr>\n",
       "      <th>88</th>\n",
       "      <td>BF-1100</td>\n",
       "      <td>PDBW494GHE</td>\n",
       "      <td>M0</td>\n",
       "      <td>0</td>\n",
       "      <td>NaN</td>\n",
       "      <td>0.0</td>\n",
       "      <td>Unknown/Not collected as enrollment criterion</td>\n",
       "      <td>PD</td>\n",
       "    </tr>\n",
       "    <tr>\n",
       "      <th>6040</th>\n",
       "      <td>PD-PDBW494GHE</td>\n",
       "      <td>PDBW494GHE</td>\n",
       "      <td>M0</td>\n",
       "      <td>0</td>\n",
       "      <td>-0.5</td>\n",
       "      <td>-0.5</td>\n",
       "      <td>Unknown/Not collected as enrollment criterion</td>\n",
       "      <td>PD</td>\n",
       "    </tr>\n",
       "    <tr>\n",
       "      <th>6185</th>\n",
       "      <td>PD-PDEB612LPE</td>\n",
       "      <td>PDEB612LPE</td>\n",
       "      <td>M0</td>\n",
       "      <td>0</td>\n",
       "      <td>0.0</td>\n",
       "      <td>0.0</td>\n",
       "      <td>Unknown/Not collected as enrollment criterion</td>\n",
       "      <td>PD</td>\n",
       "    </tr>\n",
       "    <tr>\n",
       "      <th>6405</th>\n",
       "      <td>PD-PDHB484JY8</td>\n",
       "      <td>PDHB484JY8</td>\n",
       "      <td>M0</td>\n",
       "      <td>0</td>\n",
       "      <td>NaN</td>\n",
       "      <td>NaN</td>\n",
       "      <td>Unknown/Not collected as enrollment criterion</td>\n",
       "      <td>PD</td>\n",
       "    </tr>\n",
       "    <tr>\n",
       "      <th>6536</th>\n",
       "      <td>PD-PDJV686AAB</td>\n",
       "      <td>PDJV686AAB</td>\n",
       "      <td>M0</td>\n",
       "      <td>0</td>\n",
       "      <td>-0.5</td>\n",
       "      <td>-0.5</td>\n",
       "      <td>Unknown/Not collected as enrollment criterion</td>\n",
       "      <td>PD</td>\n",
       "    </tr>\n",
       "    <tr>\n",
       "      <th>7041</th>\n",
       "      <td>PD-PDUA781LH0</td>\n",
       "      <td>PDUA781LH0</td>\n",
       "      <td>M0</td>\n",
       "      <td>0</td>\n",
       "      <td>-0.5</td>\n",
       "      <td>-0.5</td>\n",
       "      <td>Unknown/Not collected as enrollment criterion</td>\n",
       "      <td>PD</td>\n",
       "    </tr>\n",
       "    <tr>\n",
       "      <th>9876</th>\n",
       "      <td>SY-PDHB484JY8</td>\n",
       "      <td>PDHB484JY8</td>\n",
       "      <td>M0</td>\n",
       "      <td>0</td>\n",
       "      <td>0.0</td>\n",
       "      <td>0.0</td>\n",
       "      <td>Unknown/Not collected as enrollment criterion</td>\n",
       "      <td>PD</td>\n",
       "    </tr>\n",
       "  </tbody>\n",
       "</table>\n",
       "</div>"
      ],
      "text/plain": [
       "     participant_id        GUID visit_name  visit_month  \\\n",
       "78          BF-1088  PDJV686AAB         M0            0   \n",
       "80          BF-1091  PDEB612LPE         M0            0   \n",
       "87          BF-1098  PDUA781LH0         M0            0   \n",
       "88          BF-1100  PDBW494GHE         M0            0   \n",
       "6040  PD-PDBW494GHE  PDBW494GHE         M0            0   \n",
       "6185  PD-PDEB612LPE  PDEB612LPE         M0            0   \n",
       "6405  PD-PDHB484JY8  PDHB484JY8         M0            0   \n",
       "6536  PD-PDJV686AAB  PDJV686AAB         M0            0   \n",
       "7041  PD-PDUA781LH0  PDUA781LH0         M0            0   \n",
       "9876  SY-PDHB484JY8  PDHB484JY8         M0            0   \n",
       "\n",
       "      enrollment_months_after_baseline  \\\n",
       "78                                 NaN   \n",
       "80                                 NaN   \n",
       "87                                 NaN   \n",
       "88                                 NaN   \n",
       "6040                              -0.5   \n",
       "6185                               0.0   \n",
       "6405                               NaN   \n",
       "6536                              -0.5   \n",
       "7041                              -0.5   \n",
       "9876                               0.0   \n",
       "\n",
       "      informed_consent_months_after_baseline  \\\n",
       "78                                       0.0   \n",
       "80                                       0.0   \n",
       "87                                       0.0   \n",
       "88                                       0.0   \n",
       "6040                                    -0.5   \n",
       "6185                                     0.0   \n",
       "6405                                     NaN   \n",
       "6536                                    -0.5   \n",
       "7041                                    -0.5   \n",
       "9876                                     0.0   \n",
       "\n",
       "                                 prodromal_category study_arm  \n",
       "78    Unknown/Not collected as enrollment criterion        PD  \n",
       "80    Unknown/Not collected as enrollment criterion        PD  \n",
       "87    Unknown/Not collected as enrollment criterion        PD  \n",
       "88    Unknown/Not collected as enrollment criterion        PD  \n",
       "6040  Unknown/Not collected as enrollment criterion        PD  \n",
       "6185  Unknown/Not collected as enrollment criterion        PD  \n",
       "6405  Unknown/Not collected as enrollment criterion        PD  \n",
       "6536  Unknown/Not collected as enrollment criterion        PD  \n",
       "7041  Unknown/Not collected as enrollment criterion        PD  \n",
       "9876  Unknown/Not collected as enrollment criterion        PD  "
      ]
     },
     "execution_count": 16,
     "metadata": {},
     "output_type": "execute_result"
    }
   ],
   "source": [
    "enrolment_rows_with_multi_pid.head(10)"
   ]
  },
  {
   "cell_type": "markdown",
   "id": "7b95aaa1",
   "metadata": {},
   "source": [
    "We observe that the patients with same `GUID` but different `patient_id` in the demographics dataset also appear in the clinical enrolment data are the same as those in demographics data. Notably, most of these cases show a 0.5-month difference in `informed_consent_months_after_baseline` which accounts for the age discrepancies observed earlier. To maintain consistency, we remove all patients with duplicate `GUID`s mapped to multiple `participant_id`s. Going forward, we will filter every dataset to retain only those records whose  `participant_id` is in the \"demographics_new.csv\" reference file we create now."
   ]
  },
  {
   "cell_type": "code",
   "execution_count": 17,
   "id": "bbc294a0",
   "metadata": {},
   "outputs": [
    {
     "name": "stdout",
     "output_type": "stream",
     "text": [
      "<class 'pandas.core.frame.DataFrame'>\n",
      "Index: 4403 entries, 0 to 10907\n",
      "Data columns (total 9 columns):\n",
      " #   Column                 Non-Null Count  Dtype \n",
      "---  ------                 --------------  ----- \n",
      " 0   participant_id         4403 non-null   object\n",
      " 1   GUID                   4403 non-null   object\n",
      " 2   visit_name             4403 non-null   object\n",
      " 3   visit_month            4403 non-null   int64 \n",
      " 4   age_at_baseline        4403 non-null   int64 \n",
      " 5   sex                    4403 non-null   object\n",
      " 6   ethnicity              4403 non-null   object\n",
      " 7   race                   4403 non-null   object\n",
      " 8   education_level_years  4403 non-null   object\n",
      "dtypes: int64(2), object(7)\n",
      "memory usage: 344.0+ KB\n"
     ]
    }
   ],
   "source": [
    "demographics_new = demographics_new[~demographics_new['GUID'].isin(mult_guid)]\n",
    "demographics_new.info()"
   ]
  },
  {
   "cell_type": "code",
   "execution_count": 18,
   "id": "9a3dfa53",
   "metadata": {},
   "outputs": [],
   "source": [
    "demographics_new.to_csv('demographics_new.csv', index=False)\n",
    "\n",
    "\n"
   ]
  }
 ],
 "metadata": {
  "kernelspec": {
   "display_name": "erdos_summer_2025",
   "language": "python",
   "name": "python3"
  },
  "language_info": {
   "codemirror_mode": {
    "name": "ipython",
    "version": 3
   },
   "file_extension": ".py",
   "mimetype": "text/x-python",
   "name": "python",
   "nbconvert_exporter": "python",
   "pygments_lexer": "ipython3",
   "version": "3.12.10"
  }
 },
 "nbformat": 4,
 "nbformat_minor": 5
}
