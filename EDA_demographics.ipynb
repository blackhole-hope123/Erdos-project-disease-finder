{
 "cells": [
  {
   "cell_type": "code",
   "execution_count": 1,
   "id": "bb330410",
   "metadata": {},
   "outputs": [],
   "source": [
    "import pandas as pd\n",
    "import numpy as np\n",
    "import seaborn as sns\n",
    "import missingno as msno\n",
    "import matplotlib.pyplot as plt\n",
    "\n",
    "sns.set_style(\"whitegrid\")"
   ]
  },
  {
   "cell_type": "code",
   "execution_count": 3,
   "id": "00add3a6",
   "metadata": {},
   "outputs": [
    {
     "data": {
      "text/plain": [
       "<bound method DataFrame.info of       participant_id        GUID visit_name  visit_month  age_at_baseline  \\\n",
       "0            BF-1001  PDNW781VHY         M0            0               55   \n",
       "1            BF-1002  PDCB969UGG         M0            0               66   \n",
       "2            BF-1003  PDLW805AHT         M0            0               61   \n",
       "3            BF-1004  PDKW284DYW         M0            0               62   \n",
       "4            BF-1005  PDTM274KX6         M0            0               61   \n",
       "...              ...         ...        ...          ...              ...   \n",
       "10903    PM-UM_HCTIX         NaN         M0            0               67   \n",
       "10904    PM-UM_HCTNJ         NaN         M0            0               76   \n",
       "10905    PM-UM_HCTTO         NaN         M0            0               83   \n",
       "10906    PM-UM_HCTWJ         NaN         M0            0               64   \n",
       "10907  PD-PDCJ402TKD  PDCJ402TKD         M0            0               52   \n",
       "\n",
       "          sex               ethnicity   race education_level_years  \n",
       "0        Male  Not Hispanic or Latino  White           12-16 years  \n",
       "1      Female  Not Hispanic or Latino  White           12-16 years  \n",
       "2        Male  Not Hispanic or Latino  White           12-16 years  \n",
       "3        Male  Not Hispanic or Latino  White           12-16 years  \n",
       "4      Female  Not Hispanic or Latino  White           12-16 years  \n",
       "...       ...                     ...    ...                   ...  \n",
       "10903    Male  Not Hispanic or Latino  White               Unknown  \n",
       "10904    Male  Not Hispanic or Latino  White               Unknown  \n",
       "10905  Female  Not Hispanic or Latino  White               Unknown  \n",
       "10906    Male      Hispanic or Latino  White               Unknown  \n",
       "10907    Male  Not Hispanic or Latino  White           12-16 years  \n",
       "\n",
       "[10908 rows x 9 columns]>"
      ]
     },
     "execution_count": 3,
     "metadata": {},
     "output_type": "execute_result"
    }
   ],
   "source": [
    "demographics = pd.read_csv(\"new-data/releases_2023_v4release_1027_clinical_Demographics.csv\")\n",
    "demographics.info"
   ]
  },
  {
   "cell_type": "code",
   "execution_count": 4,
   "id": "772f8069",
   "metadata": {},
   "outputs": [
    {
     "data": {
      "text/plain": [
       "<bound method NDFrame.head of       participant_id        GUID visit_name  visit_month  age_at_baseline  \\\n",
       "0            BF-1001  PDNW781VHY         M0            0               55   \n",
       "1            BF-1002  PDCB969UGG         M0            0               66   \n",
       "2            BF-1003  PDLW805AHT         M0            0               61   \n",
       "3            BF-1004  PDKW284DYW         M0            0               62   \n",
       "4            BF-1005  PDTM274KX6         M0            0               61   \n",
       "...              ...         ...        ...          ...              ...   \n",
       "10903    PM-UM_HCTIX         NaN         M0            0               67   \n",
       "10904    PM-UM_HCTNJ         NaN         M0            0               76   \n",
       "10905    PM-UM_HCTTO         NaN         M0            0               83   \n",
       "10906    PM-UM_HCTWJ         NaN         M0            0               64   \n",
       "10907  PD-PDCJ402TKD  PDCJ402TKD         M0            0               52   \n",
       "\n",
       "          sex               ethnicity   race education_level_years  \n",
       "0        Male  Not Hispanic or Latino  White           12-16 years  \n",
       "1      Female  Not Hispanic or Latino  White           12-16 years  \n",
       "2        Male  Not Hispanic or Latino  White           12-16 years  \n",
       "3        Male  Not Hispanic or Latino  White           12-16 years  \n",
       "4      Female  Not Hispanic or Latino  White           12-16 years  \n",
       "...       ...                     ...    ...                   ...  \n",
       "10903    Male  Not Hispanic or Latino  White               Unknown  \n",
       "10904    Male  Not Hispanic or Latino  White               Unknown  \n",
       "10905  Female  Not Hispanic or Latino  White               Unknown  \n",
       "10906    Male      Hispanic or Latino  White               Unknown  \n",
       "10907    Male  Not Hispanic or Latino  White           12-16 years  \n",
       "\n",
       "[10908 rows x 9 columns]>"
      ]
     },
     "execution_count": 4,
     "metadata": {},
     "output_type": "execute_result"
    }
   ],
   "source": [
    "demographics.head"
   ]
  },
  {
   "cell_type": "code",
   "execution_count": 5,
   "id": "1af80394",
   "metadata": {},
   "outputs": [
    {
     "data": {
      "text/plain": [
       "Index(['participant_id', 'GUID', 'visit_name', 'visit_month',\n",
       "       'age_at_baseline', 'sex', 'ethnicity', 'race', 'education_level_years'],\n",
       "      dtype='object')"
      ]
     },
     "execution_count": 5,
     "metadata": {},
     "output_type": "execute_result"
    }
   ],
   "source": [
    "demographics.columns"
   ]
  },
  {
   "cell_type": "code",
   "execution_count": 8,
   "id": "be04947d",
   "metadata": {},
   "outputs": [
    {
     "data": {
      "text/plain": [
       "10908"
      ]
     },
     "execution_count": 8,
     "metadata": {},
     "output_type": "execute_result"
    }
   ],
   "source": [
    "demographics['participant_id'].nunique()"
   ]
  },
  {
   "cell_type": "code",
   "execution_count": 10,
   "id": "e503101d",
   "metadata": {},
   "outputs": [
    {
     "data": {
      "text/plain": [
       "array([ 0, 12, 24, 36, 48, -1])"
      ]
     },
     "execution_count": 10,
     "metadata": {},
     "output_type": "execute_result"
    }
   ],
   "source": [
    "demographics['visit_month'].unique()"
   ]
  }
 ],
 "metadata": {
  "kernelspec": {
   "display_name": "erdos_summer_2025",
   "language": "python",
   "name": "python3"
  },
  "language_info": {
   "codemirror_mode": {
    "name": "ipython",
    "version": 3
   },
   "file_extension": ".py",
   "mimetype": "text/x-python",
   "name": "python",
   "nbconvert_exporter": "python",
   "pygments_lexer": "ipython3",
   "version": "3.12.10"
  }
 },
 "nbformat": 4,
 "nbformat_minor": 5
}
