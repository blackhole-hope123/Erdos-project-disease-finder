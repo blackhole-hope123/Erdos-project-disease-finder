{
 "cells": [
  {
   "cell_type": "markdown",
   "id": "f6c21b1a",
   "metadata": {},
   "source": [
    "# Basic Setup and Data Loading"
   ]
  },
  {
   "cell_type": "code",
   "execution_count": 1,
   "id": "edf658e4",
   "metadata": {},
   "outputs": [],
   "source": [
    "import pandas as pd\n",
    "import numpy as np\n",
    "import seaborn as sns\n",
    "import missingno as msno\n",
    "import matplotlib.pyplot as plt\n",
    "\n",
    "sns.set_style(\"whitegrid\")"
   ]
  },
  {
   "cell_type": "code",
   "execution_count": 2,
   "id": "1c38348f",
   "metadata": {},
   "outputs": [
    {
     "name": "stdout",
     "output_type": "stream",
     "text": [
      "<class 'pandas.core.frame.DataFrame'>\n",
      "RangeIndex: 2280 entries, 0 to 2279\n",
      "Data columns (total 8 columns):\n",
      " #   Column          Non-Null Count  Dtype  \n",
      "---  ------          --------------  -----  \n",
      " 0   participant_id  2280 non-null   object \n",
      " 1   GUID            881 non-null    object \n",
      " 2   visit_name      2280 non-null   object \n",
      " 3   visit_month     2276 non-null   float64\n",
      " 4   sbr_caudate_r   2280 non-null   float64\n",
      " 5   sbr_caudate_l   2280 non-null   float64\n",
      " 6   sbr_putamen_r   2280 non-null   float64\n",
      " 7   sbr_putamen_l   2280 non-null   float64\n",
      "dtypes: float64(5), object(3)\n",
      "memory usage: 142.6+ KB\n"
     ]
    }
   ],
   "source": [
    "DatScan = pd.read_csv(\"new-data/releases_2023_v4release_1027_clinical_DaTSCAN_SBR.csv\")\n",
    "demographics_new = pd.read_csv(\"demographics_new.csv\")\n",
    "DatScan.info()"
   ]
  },
  {
   "cell_type": "code",
   "execution_count": 3,
   "id": "5d52986b",
   "metadata": {},
   "outputs": [
    {
     "data": {
      "text/html": [
       "<div>\n",
       "<style scoped>\n",
       "    .dataframe tbody tr th:only-of-type {\n",
       "        vertical-align: middle;\n",
       "    }\n",
       "\n",
       "    .dataframe tbody tr th {\n",
       "        vertical-align: top;\n",
       "    }\n",
       "\n",
       "    .dataframe thead th {\n",
       "        text-align: right;\n",
       "    }\n",
       "</style>\n",
       "<table border=\"1\" class=\"dataframe\">\n",
       "  <thead>\n",
       "    <tr style=\"text-align: right;\">\n",
       "      <th></th>\n",
       "      <th>participant_id</th>\n",
       "      <th>GUID</th>\n",
       "      <th>visit_name</th>\n",
       "      <th>visit_month</th>\n",
       "      <th>sbr_caudate_r</th>\n",
       "      <th>sbr_caudate_l</th>\n",
       "      <th>sbr_putamen_r</th>\n",
       "      <th>sbr_putamen_l</th>\n",
       "    </tr>\n",
       "  </thead>\n",
       "  <tbody>\n",
       "    <tr>\n",
       "      <th>0</th>\n",
       "      <td>LC-1010006</td>\n",
       "      <td>NaN</td>\n",
       "      <td>M0</td>\n",
       "      <td>0.0</td>\n",
       "      <td>4.06</td>\n",
       "      <td>4.27</td>\n",
       "      <td>3.61</td>\n",
       "      <td>3.32</td>\n",
       "    </tr>\n",
       "    <tr>\n",
       "      <th>1</th>\n",
       "      <td>LC-1030006</td>\n",
       "      <td>NaN</td>\n",
       "      <td>M0</td>\n",
       "      <td>0.0</td>\n",
       "      <td>3.67</td>\n",
       "      <td>4.04</td>\n",
       "      <td>3.10</td>\n",
       "      <td>2.91</td>\n",
       "    </tr>\n",
       "    <tr>\n",
       "      <th>2</th>\n",
       "      <td>LC-120006</td>\n",
       "      <td>NaN</td>\n",
       "      <td>M0</td>\n",
       "      <td>0.0</td>\n",
       "      <td>3.05</td>\n",
       "      <td>2.98</td>\n",
       "      <td>2.84</td>\n",
       "      <td>2.93</td>\n",
       "    </tr>\n",
       "    <tr>\n",
       "      <th>3</th>\n",
       "      <td>LC-1240006</td>\n",
       "      <td>NaN</td>\n",
       "      <td>M0</td>\n",
       "      <td>0.0</td>\n",
       "      <td>4.01</td>\n",
       "      <td>3.90</td>\n",
       "      <td>2.77</td>\n",
       "      <td>2.93</td>\n",
       "    </tr>\n",
       "    <tr>\n",
       "      <th>4</th>\n",
       "      <td>LC-1250006</td>\n",
       "      <td>NaN</td>\n",
       "      <td>M0</td>\n",
       "      <td>0.0</td>\n",
       "      <td>3.60</td>\n",
       "      <td>3.84</td>\n",
       "      <td>2.37</td>\n",
       "      <td>2.36</td>\n",
       "    </tr>\n",
       "  </tbody>\n",
       "</table>\n",
       "</div>"
      ],
      "text/plain": [
       "  participant_id GUID visit_name  visit_month  sbr_caudate_r  sbr_caudate_l  \\\n",
       "0     LC-1010006  NaN         M0          0.0           4.06           4.27   \n",
       "1     LC-1030006  NaN         M0          0.0           3.67           4.04   \n",
       "2      LC-120006  NaN         M0          0.0           3.05           2.98   \n",
       "3     LC-1240006  NaN         M0          0.0           4.01           3.90   \n",
       "4     LC-1250006  NaN         M0          0.0           3.60           3.84   \n",
       "\n",
       "   sbr_putamen_r  sbr_putamen_l  \n",
       "0           3.61           3.32  \n",
       "1           3.10           2.91  \n",
       "2           2.84           2.93  \n",
       "3           2.77           2.93  \n",
       "4           2.37           2.36  "
      ]
     },
     "execution_count": 3,
     "metadata": {},
     "output_type": "execute_result"
    }
   ],
   "source": [
    "DatScan.head()"
   ]
  },
  {
   "cell_type": "markdown",
   "id": "59f037eb",
   "metadata": {},
   "source": [
    "# Data Preprocessing And Cleaning \n",
    "\n",
    "## Checking For Duplicates And Nan Values\n",
    "\n",
    "We begin our analysis by removing patients who have missing (NaN) values in the `GUID` column, as well as those with conflicting identifiers — that is, cases where multiple `participant_id`s share the same `GUID`. To ensure consistency, we retain only the participants whose `participant_id`s appear in the cleaned reference file \"demographics_new.csv\"."
   ]
  },
  {
   "cell_type": "code",
   "execution_count": 7,
   "id": "fa236976",
   "metadata": {},
   "outputs": [],
   "source": [
    "DatScan = DatScan[DatScan['participant_id'].isin(demographics_new['participant_id'])]\n"
   ]
  },
  {
   "cell_type": "code",
   "execution_count": 8,
   "id": "4c47f1df",
   "metadata": {},
   "outputs": [
    {
     "data": {
      "text/plain": [
       "participant_id    342\n",
       "GUID              342\n",
       "visit_name          8\n",
       "visit_month         7\n",
       "sbr_caudate_r     278\n",
       "sbr_caudate_l     274\n",
       "sbr_putamen_r     211\n",
       "sbr_putamen_l     196\n",
       "dtype: int64"
      ]
     },
     "execution_count": 8,
     "metadata": {},
     "output_type": "execute_result"
    }
   ],
   "source": [
    "DatScan.nunique()"
   ]
  },
  {
   "cell_type": "code",
   "execution_count": 9,
   "id": "5c534c44",
   "metadata": {},
   "outputs": [
    {
     "data": {
      "text/plain": [
       "np.int64(0)"
      ]
     },
     "execution_count": 9,
     "metadata": {},
     "output_type": "execute_result"
    }
   ],
   "source": [
    "DatScan['GUID'].isna().sum()\n",
    "   "
   ]
  },
  {
   "cell_type": "markdown",
   "id": "8b7b3348",
   "metadata": {},
   "source": [
    "We remove the GUID column from the dataset, as it is no longer required for the subsequent steps of our analysis. Then we assess the data for duplicate entries by examining combinations of the `participant_id` and `visit_month` columns to ensure each participant's visit is uniquely represented."
   ]
  },
  {
   "cell_type": "code",
   "execution_count": 10,
   "id": "93a6e03c",
   "metadata": {},
   "outputs": [],
   "source": [
    "DatScan.drop('GUID', axis = 1,  inplace = True)"
   ]
  },
  {
   "cell_type": "code",
   "execution_count": 13,
   "id": "d935e450",
   "metadata": {},
   "outputs": [
    {
     "data": {
      "text/plain": [
       "np.int64(0)"
      ]
     },
     "execution_count": 13,
     "metadata": {},
     "output_type": "execute_result"
    }
   ],
   "source": [
    "DatScan.duplicated(subset = ['visit_month','participant_id']).sum()"
   ]
  },
  {
   "cell_type": "code",
   "execution_count": null,
   "id": "4c3a672e",
   "metadata": {},
   "outputs": [],
   "source": []
  }
 ],
 "metadata": {
  "kernelspec": {
   "display_name": "erdos_summer_2025",
   "language": "python",
   "name": "python3"
  },
  "language_info": {
   "codemirror_mode": {
    "name": "ipython",
    "version": 3
   },
   "file_extension": ".py",
   "mimetype": "text/x-python",
   "name": "python",
   "nbconvert_exporter": "python",
   "pygments_lexer": "ipython3",
   "version": "3.12.10"
  }
 },
 "nbformat": 4,
 "nbformat_minor": 5
}
