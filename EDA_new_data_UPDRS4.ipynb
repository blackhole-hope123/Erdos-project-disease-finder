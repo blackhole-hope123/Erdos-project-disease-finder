{
 "cells": [
  {
   "cell_type": "markdown",
   "id": "777ef975",
   "metadata": {},
   "source": [
    "# Basic Setup and Data Loading"
   ]
  },
  {
   "cell_type": "code",
   "execution_count": 2,
   "id": "99c1de39",
   "metadata": {},
   "outputs": [],
   "source": [
    "import pandas as pd\n",
    "import numpy as np\n",
    "import seaborn as sns\n",
    "import missingno as msno\n",
    "import matplotlib.pyplot as plt\n",
    "\n",
    "sns.set_style(\"whitegrid\")"
   ]
  },
  {
   "cell_type": "code",
   "execution_count": 3,
   "id": "4df2dc0a",
   "metadata": {},
   "outputs": [
    {
     "name": "stdout",
     "output_type": "stream",
     "text": [
      "<class 'pandas.core.frame.DataFrame'>\n",
      "RangeIndex: 13091 entries, 0 to 13090\n",
      "Data columns (total 17 columns):\n",
      " #   Column                                          Non-Null Count  Dtype  \n",
      "---  ------                                          --------------  -----  \n",
      " 0   participant_id                                  13091 non-null  object \n",
      " 1   GUID                                            9606 non-null   object \n",
      " 2   visit_name                                      13091 non-null  object \n",
      " 3   visit_month                                     13091 non-null  float64\n",
      " 4   code_upd2401_time_spent_with_dyskinesias        11984 non-null  float64\n",
      " 5   code_upd2402_functional_impact_of_dyskinesias   11344 non-null  float64\n",
      " 6   code_upd2403_time_spent_in_the_off_state        11817 non-null  float64\n",
      " 7   code_upd2404_functional_impact_of_fluctuations  11340 non-null  float64\n",
      " 8   code_upd2405_complexity_of_motor_fluctuations   11342 non-null  float64\n",
      " 9   code_upd2406_painful_off_state_dystonia         11340 non-null  float64\n",
      " 10  upd2401_time_spent_with_dyskinesias             11984 non-null  object \n",
      " 11  upd2402_functional_impact_of_dyskinesias        11344 non-null  object \n",
      " 12  upd2403_time_spent_in_the_off_state             11817 non-null  object \n",
      " 13  upd2404_functional_impact_of_fluctuations       11340 non-null  object \n",
      " 14  upd2405_complexity_of_motor_fluctuations        11342 non-null  object \n",
      " 15  upd2406_painful_off_state_dystonia              11340 non-null  object \n",
      " 16  mds_updrs_part_iv_summary_score                 11758 non-null  float64\n",
      "dtypes: float64(8), object(9)\n",
      "memory usage: 1.7+ MB\n"
     ]
    }
   ],
   "source": [
    "clinical_updrs4 = pd.read_csv(\"new-data/releases_2023_v4release_1027_clinical_MDS_UPDRS_Part_IV.csv\")\n",
    "demographics_new = pd.read_csv(\"demographics_new.csv\")\n",
    "clinical_updrs4.info()"
   ]
  },
  {
   "cell_type": "code",
   "execution_count": 5,
   "id": "8f5b1c20",
   "metadata": {},
   "outputs": [
    {
     "data": {
      "text/html": [
       "<div>\n",
       "<style scoped>\n",
       "    .dataframe tbody tr th:only-of-type {\n",
       "        vertical-align: middle;\n",
       "    }\n",
       "\n",
       "    .dataframe tbody tr th {\n",
       "        vertical-align: top;\n",
       "    }\n",
       "\n",
       "    .dataframe thead th {\n",
       "        text-align: right;\n",
       "    }\n",
       "</style>\n",
       "<table border=\"1\" class=\"dataframe\">\n",
       "  <thead>\n",
       "    <tr style=\"text-align: right;\">\n",
       "      <th></th>\n",
       "      <th>participant_id</th>\n",
       "      <th>GUID</th>\n",
       "      <th>visit_name</th>\n",
       "      <th>visit_month</th>\n",
       "      <th>code_upd2401_time_spent_with_dyskinesias</th>\n",
       "      <th>code_upd2402_functional_impact_of_dyskinesias</th>\n",
       "      <th>code_upd2403_time_spent_in_the_off_state</th>\n",
       "      <th>code_upd2404_functional_impact_of_fluctuations</th>\n",
       "      <th>code_upd2405_complexity_of_motor_fluctuations</th>\n",
       "      <th>code_upd2406_painful_off_state_dystonia</th>\n",
       "      <th>upd2401_time_spent_with_dyskinesias</th>\n",
       "      <th>upd2402_functional_impact_of_dyskinesias</th>\n",
       "      <th>upd2403_time_spent_in_the_off_state</th>\n",
       "      <th>upd2404_functional_impact_of_fluctuations</th>\n",
       "      <th>upd2405_complexity_of_motor_fluctuations</th>\n",
       "      <th>upd2406_painful_off_state_dystonia</th>\n",
       "      <th>mds_updrs_part_iv_summary_score</th>\n",
       "    </tr>\n",
       "  </thead>\n",
       "  <tbody>\n",
       "    <tr>\n",
       "      <th>0</th>\n",
       "      <td>BF-1002</td>\n",
       "      <td>PDCB969UGG</td>\n",
       "      <td>M0</td>\n",
       "      <td>0.0</td>\n",
       "      <td>0.0</td>\n",
       "      <td>0.0</td>\n",
       "      <td>1.0</td>\n",
       "      <td>0.0</td>\n",
       "      <td>1.0</td>\n",
       "      <td>0.0</td>\n",
       "      <td>Normal</td>\n",
       "      <td>Normal</td>\n",
       "      <td>Slight</td>\n",
       "      <td>Normal</td>\n",
       "      <td>Slight</td>\n",
       "      <td>Normal</td>\n",
       "      <td>9.0</td>\n",
       "    </tr>\n",
       "    <tr>\n",
       "      <th>1</th>\n",
       "      <td>BF-1003</td>\n",
       "      <td>PDLW805AHT</td>\n",
       "      <td>M0</td>\n",
       "      <td>0.0</td>\n",
       "      <td>0.0</td>\n",
       "      <td>0.0</td>\n",
       "      <td>1.0</td>\n",
       "      <td>0.0</td>\n",
       "      <td>1.0</td>\n",
       "      <td>0.0</td>\n",
       "      <td>Normal</td>\n",
       "      <td>Normal</td>\n",
       "      <td>Slight</td>\n",
       "      <td>Normal</td>\n",
       "      <td>Slight</td>\n",
       "      <td>Normal</td>\n",
       "      <td>4.0</td>\n",
       "    </tr>\n",
       "    <tr>\n",
       "      <th>2</th>\n",
       "      <td>BF-1004</td>\n",
       "      <td>PDKW284DYW</td>\n",
       "      <td>M0</td>\n",
       "      <td>0.0</td>\n",
       "      <td>1.0</td>\n",
       "      <td>1.0</td>\n",
       "      <td>1.0</td>\n",
       "      <td>1.0</td>\n",
       "      <td>1.0</td>\n",
       "      <td>1.0</td>\n",
       "      <td>Slight</td>\n",
       "      <td>Slight</td>\n",
       "      <td>Slight</td>\n",
       "      <td>Slight</td>\n",
       "      <td>Slight</td>\n",
       "      <td>Slight</td>\n",
       "      <td>6.0</td>\n",
       "    </tr>\n",
       "    <tr>\n",
       "      <th>3</th>\n",
       "      <td>BF-1006</td>\n",
       "      <td>PDKY484YDC</td>\n",
       "      <td>M0</td>\n",
       "      <td>0.0</td>\n",
       "      <td>0.0</td>\n",
       "      <td>0.0</td>\n",
       "      <td>1.0</td>\n",
       "      <td>1.0</td>\n",
       "      <td>1.0</td>\n",
       "      <td>1.0</td>\n",
       "      <td>Normal</td>\n",
       "      <td>Normal</td>\n",
       "      <td>Slight</td>\n",
       "      <td>Slight</td>\n",
       "      <td>Slight</td>\n",
       "      <td>Slight</td>\n",
       "      <td>0.0</td>\n",
       "    </tr>\n",
       "    <tr>\n",
       "      <th>4</th>\n",
       "      <td>BF-1008</td>\n",
       "      <td>PDEA056CRM</td>\n",
       "      <td>M0</td>\n",
       "      <td>0.0</td>\n",
       "      <td>0.0</td>\n",
       "      <td>0.0</td>\n",
       "      <td>1.0</td>\n",
       "      <td>1.0</td>\n",
       "      <td>1.0</td>\n",
       "      <td>1.0</td>\n",
       "      <td>Normal</td>\n",
       "      <td>Normal</td>\n",
       "      <td>Slight</td>\n",
       "      <td>Slight</td>\n",
       "      <td>Slight</td>\n",
       "      <td>Slight</td>\n",
       "      <td>6.0</td>\n",
       "    </tr>\n",
       "  </tbody>\n",
       "</table>\n",
       "</div>"
      ],
      "text/plain": [
       "  participant_id        GUID visit_name  visit_month  \\\n",
       "0        BF-1002  PDCB969UGG         M0          0.0   \n",
       "1        BF-1003  PDLW805AHT         M0          0.0   \n",
       "2        BF-1004  PDKW284DYW         M0          0.0   \n",
       "3        BF-1006  PDKY484YDC         M0          0.0   \n",
       "4        BF-1008  PDEA056CRM         M0          0.0   \n",
       "\n",
       "   code_upd2401_time_spent_with_dyskinesias  \\\n",
       "0                                       0.0   \n",
       "1                                       0.0   \n",
       "2                                       1.0   \n",
       "3                                       0.0   \n",
       "4                                       0.0   \n",
       "\n",
       "   code_upd2402_functional_impact_of_dyskinesias  \\\n",
       "0                                            0.0   \n",
       "1                                            0.0   \n",
       "2                                            1.0   \n",
       "3                                            0.0   \n",
       "4                                            0.0   \n",
       "\n",
       "   code_upd2403_time_spent_in_the_off_state  \\\n",
       "0                                       1.0   \n",
       "1                                       1.0   \n",
       "2                                       1.0   \n",
       "3                                       1.0   \n",
       "4                                       1.0   \n",
       "\n",
       "   code_upd2404_functional_impact_of_fluctuations  \\\n",
       "0                                             0.0   \n",
       "1                                             0.0   \n",
       "2                                             1.0   \n",
       "3                                             1.0   \n",
       "4                                             1.0   \n",
       "\n",
       "   code_upd2405_complexity_of_motor_fluctuations  \\\n",
       "0                                            1.0   \n",
       "1                                            1.0   \n",
       "2                                            1.0   \n",
       "3                                            1.0   \n",
       "4                                            1.0   \n",
       "\n",
       "   code_upd2406_painful_off_state_dystonia  \\\n",
       "0                                      0.0   \n",
       "1                                      0.0   \n",
       "2                                      1.0   \n",
       "3                                      1.0   \n",
       "4                                      1.0   \n",
       "\n",
       "  upd2401_time_spent_with_dyskinesias  \\\n",
       "0                              Normal   \n",
       "1                              Normal   \n",
       "2                              Slight   \n",
       "3                              Normal   \n",
       "4                              Normal   \n",
       "\n",
       "  upd2402_functional_impact_of_dyskinesias  \\\n",
       "0                                   Normal   \n",
       "1                                   Normal   \n",
       "2                                   Slight   \n",
       "3                                   Normal   \n",
       "4                                   Normal   \n",
       "\n",
       "  upd2403_time_spent_in_the_off_state  \\\n",
       "0                              Slight   \n",
       "1                              Slight   \n",
       "2                              Slight   \n",
       "3                              Slight   \n",
       "4                              Slight   \n",
       "\n",
       "  upd2404_functional_impact_of_fluctuations  \\\n",
       "0                                    Normal   \n",
       "1                                    Normal   \n",
       "2                                    Slight   \n",
       "3                                    Slight   \n",
       "4                                    Slight   \n",
       "\n",
       "  upd2405_complexity_of_motor_fluctuations upd2406_painful_off_state_dystonia  \\\n",
       "0                                   Slight                             Normal   \n",
       "1                                   Slight                             Normal   \n",
       "2                                   Slight                             Slight   \n",
       "3                                   Slight                             Slight   \n",
       "4                                   Slight                             Slight   \n",
       "\n",
       "   mds_updrs_part_iv_summary_score  \n",
       "0                              9.0  \n",
       "1                              4.0  \n",
       "2                              6.0  \n",
       "3                              0.0  \n",
       "4                              6.0  "
      ]
     },
     "execution_count": 5,
     "metadata": {},
     "output_type": "execute_result"
    }
   ],
   "source": [
    "clinical_updrs4.head()"
   ]
  },
  {
   "cell_type": "markdown",
   "id": "5d93f86c",
   "metadata": {},
   "source": [
    "# Data Preprocessing And Cleaning \n",
    "\n",
    "## Checking For Duplicates And Nan Values\n",
    "\n",
    "We begin our analysis by removing patients who have missing (NaN) values in the `GUID` column, as well as those with conflicting identifiers — that is, cases where multiple `participant_id`s share the same `GUID`. To ensure consistency, we retain only the participants whose `participant_id`s appear in the cleaned reference file \"demographics_new.csv\"."
   ]
  },
  {
   "cell_type": "code",
   "execution_count": 6,
   "id": "dd4906fd",
   "metadata": {},
   "outputs": [],
   "source": [
    "clinical_updrs4 = clinical_updrs4[clinical_updrs4['participant_id'].isin(demographics_new['participant_id'])]\n"
   ]
  },
  {
   "cell_type": "code",
   "execution_count": 7,
   "id": "ca9da568",
   "metadata": {},
   "outputs": [
    {
     "data": {
      "text/plain": [
       "participant_id                                    3022\n",
       "GUID                                              3022\n",
       "visit_name                                          20\n",
       "visit_month                                         19\n",
       "code_upd2401_time_spent_with_dyskinesias             5\n",
       "code_upd2402_functional_impact_of_dyskinesias        5\n",
       "code_upd2403_time_spent_in_the_off_state             5\n",
       "code_upd2404_functional_impact_of_fluctuations       5\n",
       "code_upd2405_complexity_of_motor_fluctuations        5\n",
       "code_upd2406_painful_off_state_dystonia              5\n",
       "upd2401_time_spent_with_dyskinesias                  5\n",
       "upd2402_functional_impact_of_dyskinesias             5\n",
       "upd2403_time_spent_in_the_off_state                  5\n",
       "upd2404_functional_impact_of_fluctuations            5\n",
       "upd2405_complexity_of_motor_fluctuations             5\n",
       "upd2406_painful_off_state_dystonia                   5\n",
       "mds_updrs_part_iv_summary_score                     24\n",
       "dtype: int64"
      ]
     },
     "execution_count": 7,
     "metadata": {},
     "output_type": "execute_result"
    }
   ],
   "source": [
    "clinical_updrs4.nunique()"
   ]
  },
  {
   "cell_type": "code",
   "execution_count": 8,
   "id": "300cc1ee",
   "metadata": {},
   "outputs": [
    {
     "data": {
      "text/plain": [
       "np.int64(0)"
      ]
     },
     "execution_count": 8,
     "metadata": {},
     "output_type": "execute_result"
    }
   ],
   "source": [
    "clinical_updrs4['GUID'].isna().sum()"
   ]
  },
  {
   "cell_type": "markdown",
   "id": "cea8c86e",
   "metadata": {},
   "source": [
    "We remove the GUID column from the dataset, as it is no longer required for the subsequent steps of our analysis. Then we assess the data for duplicate entries by examining combinations of the `participant_id` and `visit_month` columns to ensure each participant's visit is uniquely represented."
   ]
  },
  {
   "cell_type": "code",
   "execution_count": 9,
   "id": "6c7a91df",
   "metadata": {},
   "outputs": [],
   "source": [
    "clinical_updrs4.drop('GUID', axis = 1,  inplace = True)"
   ]
  },
  {
   "cell_type": "code",
   "execution_count": 10,
   "id": "5b00f6b3",
   "metadata": {},
   "outputs": [
    {
     "data": {
      "text/plain": [
       "np.int64(0)"
      ]
     },
     "execution_count": 10,
     "metadata": {},
     "output_type": "execute_result"
    }
   ],
   "source": [
    "clinical_updrs4.duplicated(subset = ['visit_month','participant_id']).sum()"
   ]
  },
  {
   "cell_type": "markdown",
   "id": "cb7056ff",
   "metadata": {},
   "source": [
    "This ensures that there are no repeated entries for the UPDRS4 scores"
   ]
  },
  {
   "cell_type": "code",
   "execution_count": 12,
   "id": "c67e0231",
   "metadata": {},
   "outputs": [
    {
     "name": "stdout",
     "output_type": "stream",
     "text": [
      "[ -1.    0.    0.5   3.    6.    9.   12.   18.   24.   30.   36.   42.\n",
      "  48.   54.   60.   72.   84.   96.  108. ]\n"
     ]
    }
   ],
   "source": [
    "visit_months = clinical_updrs4['visit_month'].unique()\n",
    "visit_months.sort()\n",
    "print(visit_months)"
   ]
  },
  {
   "cell_type": "code",
   "execution_count": 13,
   "id": "5aa0965d",
   "metadata": {},
   "outputs": [],
   "source": [
    "clinical_updrs4.to_csv('clinical_updrs4_cleaned.csv', index=False)\n"
   ]
  }
 ],
 "metadata": {
  "kernelspec": {
   "display_name": "erdos_summer_2025",
   "language": "python",
   "name": "python3"
  },
  "language_info": {
   "codemirror_mode": {
    "name": "ipython",
    "version": 3
   },
   "file_extension": ".py",
   "mimetype": "text/x-python",
   "name": "python",
   "nbconvert_exporter": "python",
   "pygments_lexer": "ipython3",
   "version": "3.12.10"
  }
 },
 "nbformat": 4,
 "nbformat_minor": 5
}
