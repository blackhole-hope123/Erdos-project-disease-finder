{
 "cells": [
  {
   "cell_type": "markdown",
   "id": "989dac2e",
   "metadata": {},
   "source": [
    "# Basic Setup and Data Loading"
   ]
  },
  {
   "cell_type": "code",
   "execution_count": 13,
   "id": "53aaba27",
   "metadata": {},
   "outputs": [],
   "source": [
    "import pandas as pd\n",
    "import numpy as np\n",
    "import seaborn as sns\n",
    "import missingno as msno\n",
    "import matplotlib.pyplot as plt\n",
    "\n",
    "sns.set_style(\"whitegrid\")"
   ]
  },
  {
   "cell_type": "code",
   "execution_count": 14,
   "id": "17427427",
   "metadata": {},
   "outputs": [
    {
     "name": "stdout",
     "output_type": "stream",
     "text": [
      "<class 'pandas.core.frame.DataFrame'>\n",
      "RangeIndex: 8139 entries, 0 to 8138\n",
      "Data columns (total 7 columns):\n",
      " #   Column                     Non-Null Count  Dtype  \n",
      "---  ------                     --------------  -----  \n",
      " 0   participant_id             8139 non-null   object \n",
      " 1   GUID                       3798 non-null   object \n",
      " 2   visit_name                 8139 non-null   object \n",
      " 3   visit_month                7014 non-null   float64\n",
      " 4   biological_mother_with_pd  8087 non-null   object \n",
      " 5   biological_father_with_pd  8085 non-null   object \n",
      " 6   other_relative_with_pd     8105 non-null   object \n",
      "dtypes: float64(1), object(6)\n",
      "memory usage: 445.2+ KB\n"
     ]
    }
   ],
   "source": [
    "Family_history = pd.read_csv(\"new-data/releases_2023_v4release_1027_clinical_Family_History_PD.csv\")\n",
    "demographics_new = pd.read_csv(\"demographics_new.csv\")\n",
    "Family_history.info()"
   ]
  },
  {
   "cell_type": "code",
   "execution_count": 15,
   "id": "d9e73d03",
   "metadata": {},
   "outputs": [
    {
     "data": {
      "text/html": [
       "<div>\n",
       "<style scoped>\n",
       "    .dataframe tbody tr th:only-of-type {\n",
       "        vertical-align: middle;\n",
       "    }\n",
       "\n",
       "    .dataframe tbody tr th {\n",
       "        vertical-align: top;\n",
       "    }\n",
       "\n",
       "    .dataframe thead th {\n",
       "        text-align: right;\n",
       "    }\n",
       "</style>\n",
       "<table border=\"1\" class=\"dataframe\">\n",
       "  <thead>\n",
       "    <tr style=\"text-align: right;\">\n",
       "      <th></th>\n",
       "      <th>participant_id</th>\n",
       "      <th>GUID</th>\n",
       "      <th>visit_name</th>\n",
       "      <th>visit_month</th>\n",
       "      <th>biological_mother_with_pd</th>\n",
       "      <th>biological_father_with_pd</th>\n",
       "      <th>other_relative_with_pd</th>\n",
       "    </tr>\n",
       "  </thead>\n",
       "  <tbody>\n",
       "    <tr>\n",
       "      <th>0</th>\n",
       "      <td>BF-1001</td>\n",
       "      <td>PDNW781VHY</td>\n",
       "      <td>M0</td>\n",
       "      <td>0.0</td>\n",
       "      <td>No</td>\n",
       "      <td>No</td>\n",
       "      <td>No</td>\n",
       "    </tr>\n",
       "    <tr>\n",
       "      <th>1</th>\n",
       "      <td>BF-1002</td>\n",
       "      <td>PDCB969UGG</td>\n",
       "      <td>M0</td>\n",
       "      <td>0.0</td>\n",
       "      <td>No</td>\n",
       "      <td>No</td>\n",
       "      <td>No</td>\n",
       "    </tr>\n",
       "    <tr>\n",
       "      <th>2</th>\n",
       "      <td>BF-1003</td>\n",
       "      <td>PDLW805AHT</td>\n",
       "      <td>M0</td>\n",
       "      <td>0.0</td>\n",
       "      <td>No</td>\n",
       "      <td>No</td>\n",
       "      <td>No</td>\n",
       "    </tr>\n",
       "    <tr>\n",
       "      <th>3</th>\n",
       "      <td>BF-1004</td>\n",
       "      <td>PDKW284DYW</td>\n",
       "      <td>M0</td>\n",
       "      <td>0.0</td>\n",
       "      <td>No</td>\n",
       "      <td>No</td>\n",
       "      <td>No</td>\n",
       "    </tr>\n",
       "    <tr>\n",
       "      <th>4</th>\n",
       "      <td>BF-1005</td>\n",
       "      <td>PDTM274KX6</td>\n",
       "      <td>M0</td>\n",
       "      <td>0.0</td>\n",
       "      <td>No</td>\n",
       "      <td>No</td>\n",
       "      <td>No</td>\n",
       "    </tr>\n",
       "  </tbody>\n",
       "</table>\n",
       "</div>"
      ],
      "text/plain": [
       "  participant_id        GUID visit_name  visit_month  \\\n",
       "0        BF-1001  PDNW781VHY         M0          0.0   \n",
       "1        BF-1002  PDCB969UGG         M0          0.0   \n",
       "2        BF-1003  PDLW805AHT         M0          0.0   \n",
       "3        BF-1004  PDKW284DYW         M0          0.0   \n",
       "4        BF-1005  PDTM274KX6         M0          0.0   \n",
       "\n",
       "  biological_mother_with_pd biological_father_with_pd other_relative_with_pd  \n",
       "0                        No                        No                     No  \n",
       "1                        No                        No                     No  \n",
       "2                        No                        No                     No  \n",
       "3                        No                        No                     No  \n",
       "4                        No                        No                     No  "
      ]
     },
     "execution_count": 15,
     "metadata": {},
     "output_type": "execute_result"
    }
   ],
   "source": [
    "Family_history.head()"
   ]
  },
  {
   "cell_type": "markdown",
   "id": "e6696dfd",
   "metadata": {},
   "source": [
    "# Data Preprocessing And Cleaning \n",
    "\n",
    "## Checking For Duplicates And Nan Values\n",
    "\n",
    "We begin our analysis by removing patients who have missing (NaN) values in the `GUID` column, as well as those with conflicting identifiers — that is, cases where multiple `participant_id`s share the same `GUID`. To ensure consistency, we retain only the participants whose `participant_id`s appear in the cleaned reference file \"demographics_new.csv\"."
   ]
  },
  {
   "cell_type": "code",
   "execution_count": 16,
   "id": "2037cd86",
   "metadata": {},
   "outputs": [],
   "source": [
    "Family_history = Family_history[Family_history['participant_id'].isin(demographics_new['participant_id'])]\n"
   ]
  },
  {
   "cell_type": "code",
   "execution_count": 17,
   "id": "7ebc4ac4",
   "metadata": {},
   "outputs": [
    {
     "data": {
      "text/plain": [
       "participant_id               3776\n",
       "GUID                         3776\n",
       "visit_name                      6\n",
       "visit_month                     5\n",
       "biological_mother_with_pd       3\n",
       "biological_father_with_pd       3\n",
       "other_relative_with_pd          3\n",
       "dtype: int64"
      ]
     },
     "execution_count": 17,
     "metadata": {},
     "output_type": "execute_result"
    }
   ],
   "source": [
    "Family_history.nunique()"
   ]
  },
  {
   "cell_type": "code",
   "execution_count": 18,
   "id": "b8e39f2b",
   "metadata": {},
   "outputs": [
    {
     "data": {
      "text/plain": [
       "np.int64(0)"
      ]
     },
     "execution_count": 18,
     "metadata": {},
     "output_type": "execute_result"
    }
   ],
   "source": [
    "Family_history['GUID'].isna().sum()\n",
    "   "
   ]
  },
  {
   "cell_type": "markdown",
   "id": "2470ad05",
   "metadata": {},
   "source": [
    "We remove the GUID column from the dataset, as it is no longer required for the subsequent steps of our analysis. Then we assess the data for duplicate entries by examining combinations of the `participant_id` and `visit_month` columns to ensure each participant's visit is uniquely represented."
   ]
  },
  {
   "cell_type": "code",
   "execution_count": 19,
   "id": "d82721f2",
   "metadata": {},
   "outputs": [],
   "source": [
    "Family_history.drop('GUID', axis = 1,  inplace = True)"
   ]
  },
  {
   "cell_type": "code",
   "execution_count": 20,
   "id": "a22dddc1",
   "metadata": {},
   "outputs": [
    {
     "data": {
      "text/plain": [
       "np.int64(0)"
      ]
     },
     "execution_count": 20,
     "metadata": {},
     "output_type": "execute_result"
    }
   ],
   "source": [
    "Family_history.duplicated(subset = ['visit_month','participant_id']).sum()"
   ]
  }
 ],
 "metadata": {
  "kernelspec": {
   "display_name": "erdos_summer_2025",
   "language": "python",
   "name": "python3"
  },
  "language_info": {
   "codemirror_mode": {
    "name": "ipython",
    "version": 3
   },
   "file_extension": ".py",
   "mimetype": "text/x-python",
   "name": "python",
   "nbconvert_exporter": "python",
   "pygments_lexer": "ipython3",
   "version": "3.12.10"
  }
 },
 "nbformat": 4,
 "nbformat_minor": 5
}
